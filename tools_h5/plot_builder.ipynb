{
 "cells": [
  {
   "cell_type": "code",
   "execution_count": 1,
   "metadata": {},
   "outputs": [],
   "source": [
    "import sys\n",
    "import os\n",
    "import numpy as np\n",
    "import matplotlib.pyplot as plt\n",
    "import matplotlib.ticker as mtick\n",
    "\n",
    "from matplotlib import cm\n",
    "from matplotlib import rc\n",
    "from mpl_toolkits.axes_grid1 import make_axes_locatable\n",
    "from mpl_toolkits.mplot3d.axes3d import Axes3D, get_test_data\n",
    "from lib.parameters import Parameters"
   ]
  },
  {
   "cell_type": "code",
   "execution_count": 37,
   "metadata": {},
   "outputs": [],
   "source": [
    "%matplotlib inline # use notebook to show figures"
   ]
  },
  {
   "cell_type": "code",
   "execution_count": 38,
   "metadata": {},
   "outputs": [],
   "source": [
    "p = Parameters('../parameters.xml')"
   ]
  },
  {
   "cell_type": "code",
   "execution_count": 47,
   "metadata": {},
   "outputs": [],
   "source": [
    "class PlotBuiler:\n",
    "    def __init__(self, parameters, fig_color=None, fig_width=10.5, fig_height=7, fig_dpi=100,\n",
    "                 font_family='sans-serif', font_name='DejaVu Sans', font_size=10):\n",
    "        self.__parameters__ = parameters\n",
    "        self.__subplots__ = []\n",
    "        self.__images__ = []\n",
    "        self.__figure__ = plt.figure(figsize=[fig_width, fig_height], dpi=fig_dpi, facecolor=fig_color)\n",
    "        #\n",
    "        self.__font_size__ = font_size\n",
    "        self.__font_family__ = font_family\n",
    "        self.__font_name__ = font_name\n",
    "        rc('font',**{'family':font_family, font_family:[font_name], 'size':font_size})\n",
    "        rc('text', usetex=True)\n",
    "        \n",
    "        self.aspect = 'equal'\n",
    "        \n",
    "        self.number_x_ticks = 20;\n",
    "        self.number_y_ticks = 8;\n",
    "\n",
    "        self.x_plot_size = self.__parameters__.number_z_grid\n",
    "        self.y_plot_size = self.__parameters__.number_r_grid\n",
    "\n",
    "        self.x_tick_start = 0\n",
    "        self.x_tick_end = self.__parameters__.z_size\n",
    "        self.y_tick_start = 0\n",
    "        self.y_tick_end = self.__parameters__.r_size\n",
    "\n",
    "\n",
    "    def get_figure(self):\n",
    "        return(self.__figure__)\n",
    "    \n",
    "    def get_subplot(self, name):\n",
    "        ''' Object collects axes (subplots) and images for quick access\n",
    "        this function allows to quick access to subplot by name\n",
    "        '''\n",
    "        return(self.__subplots__[name])\n",
    "    \n",
    "    def get_image(self, name):\n",
    "        ''' Object collects axes (subplots) and images for quick access\n",
    "        this function allows to quick access to image by name\n",
    "        (same, as subplot, to what it bount)\n",
    "        '''\n",
    "        return(self.__images[name])\n",
    "    \n",
    "##################################################################################################\n",
    "\n",
    "    def __add_subplot_common__(self, name, number, title, projection=None, x_axe_label, y_axe_label, z_axe_label, \n",
    "                               tickbox, grid, position, is_invert_y_axe):\n",
    "        ''' common method to add any'''\n",
    "        subplot = self.__figure__.add_subplot(subplot_number, projection=projection)\n",
    "        subplot.set_aspect(self.aspect)\n",
    "        if is_invert_y_axe: subplot.invert_yaxis()\n",
    "\n",
    "        self.__subplots[name] = subplot\n",
    "\n",
    "        # axes = self.get_subplot(name)\n",
    "\n",
    "        __title = title or name\n",
    "\n",
    "#################### COPYPASTE ####################\n",
    "\n",
    "        # tick labels, that shows __real__ model space dimensions\n",
    "        # translates from grid_size\n",
    "        x_tick_range = around(linspace(self.x_tick_start, self.x_tick_end, self.x_tick_count+1), 2)\n",
    "        y_tick_range = around(linspace(self.y_tick_start, self.y_tick_end, self.y_tick_count+1), 2)\n",
    "\n",
    "        # ticks, that sets grid dimensions, required for data placement\n",
    "        x_tick_grid_size = linspace(0, self.x_plot_size, self.x_tick_count+1)\n",
    "        y_tick_grid_size = linspace(self.y_plot_size, 0, self.y_tick_count+1)\n",
    "\n",
    "        # set axis properties\n",
    "        axes.set_title(_title)\n",
    "\n",
    "        axes.set_xlabel(x_axe_label)\n",
    "        axes.set_ylabel(y_axe_label, rotation=45)\n",
    "\n",
    "        axes.set_xticks(x_tick_grid_size)\n",
    "        axes.set_yticks(y_tick_grid_size)\n",
    "\n",
    "        axes.set_xticklabels(x_tick_range)\n",
    "        axes.set_yticklabels(y_tick_range)\n",
    "\n",
    "        # axes.xticks(rotation=90)\n",
    "        axes.spines['top'].set_visible(tickbox)\n",
    "        axes.spines['right'].set_visible(tickbox)\n",
    "\n",
    "        # set label on every 4th grid\n",
    "        for label in [x for i,x in enumerate(axes.xaxis.get_ticklabels()) if i%2 != 0]:\n",
    "            label.set_visible(False)\n",
    "        for label in [x for i,x in enumerate(axes.yaxis.get_ticklabels()) if i%2 != 0]:\n",
    "            label.set_visible(False)\n",
    "\n",
    "        axes.grid(grid)\n",
    "\n",
    "        if position:\n",
    "            axes.set_position(position)\n",
    "\n",
    "        \n",
    "        \n",
    "        \n",
    "        return subplot\n",
    "\n",
    "\n",
    "    def add_subplot2d(self, name, number, title=None, x_axe_label='X', y_axe_label='Y',\n",
    "                      tickbox=False, grid=False, position=None, is_invert_y_axe=False):\n",
    "        ''' add subplot '''\n",
    "        subplot = self.figure.add_subplot(subplot_number)\n",
    "        #\n",
    "        subplot.set_aspect(self.aspect)\n",
    "        if is_invert_y_axe: subplot.invert_yaxis()\n",
    "\n",
    "        self.__subplots[name] = subplot\n",
    "\n",
    "        return subplot\n",
    "\n",
    "        \n",
    "    def add_subplot3d(self, name, number, title=None, x_axe_label='X', y_axe_label='Y', z_axe_label='Z' \n",
    "                      tickbox=False, grid=False, position=None):\n",
    "        ''' https://matplotlib.org/gallery/mplot3d/subplot3d.html '''\n",
    "        return True\n",
    "    \n",
    "    def add_image(self, data, cmap='gray', clim=[-1, 1]):\n",
    "        return True\n",
    "    \n",
    "    def add_colorbar(self, subplot_name, title=None, ticks=[-1, 1], ticklabels=None, \n",
    "                     font_size=6, size=\"2%\", position=\"right\"):\n",
    "        return True\n",
    "\n",
    "    def regraw(self):\n",
    "        ''' Redraw figure (can be used for animation and video writing) '''\n",
    "        self.figure.canvas.draw_idle()\n",
    "        # self.__plot_builder.canvas.start_event_loop(1)\n",
    "        self.__figure__.canvas.flush_events()\n"
   ]
  },
  {
   "cell_type": "code",
   "execution_count": 48,
   "metadata": {},
   "outputs": [
    {
     "data": {
      "text/plain": [
       "<matplotlib.figure.Figure at 0x7f0e810f4940>"
      ]
     },
     "metadata": {},
     "output_type": "display_data"
    }
   ],
   "source": [
    "pb = PlotBuiler(p)"
   ]
  },
  {
   "cell_type": "code",
   "execution_count": 51,
   "metadata": {},
   "outputs": [],
   "source": [
    "f = pb.get_figure()"
   ]
  },
  {
   "cell_type": "code",
   "execution_count": 52,
   "metadata": {},
   "outputs": [],
   "source": [
    "f.add_subplot(projection='2d')"
   ]
  }
 ],
 "metadata": {
  "kernelspec": {
   "display_name": "Python 3",
   "language": "python",
   "name": "python3"
  },
  "language_info": {
   "codemirror_mode": {
    "name": "ipython",
    "version": 3
   },
   "file_extension": ".py",
   "mimetype": "text/x-python",
   "name": "python",
   "nbconvert_exporter": "python",
   "pygments_lexer": "ipython3",
   "version": "3.6.4"
  }
 },
 "nbformat": 4,
 "nbformat_minor": 2
}
