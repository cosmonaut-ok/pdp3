{
 "cells": [
  {
   "cell_type": "code",
   "execution_count": 1,
   "metadata": {},
   "outputs": [
    {
     "name": "stderr",
     "output_type": "stream",
     "text": [
      "/home/cosmonaut/anaconda3/lib/python3.6/site-packages/h5py/__init__.py:36: FutureWarning: Conversion of the second argument of issubdtype from `float` to `np.floating` is deprecated. In future, it will be treated as `np.float64 == np.dtype(float).type`.\n",
      "  from ._conv import register_converters as _register_converters\n"
     ]
    }
   ],
   "source": [
    "from builder.PDP_3_E_RHObeam_r_z import PDP3ERHOBeam"
   ]
  },
  {
   "cell_type": "code",
   "execution_count": 2,
   "metadata": {},
   "outputs": [
    {
     "ename": "AttributeError",
     "evalue": "'Parameters' object has no attribute 'dump_path'",
     "output_type": "error",
     "traceback": [
      "\u001b[0;31m---------------------------------------------------------------------------\u001b[0m",
      "\u001b[0;31mAttributeError\u001b[0m                            Traceback (most recent call last)",
      "\u001b[0;32m<ipython-input-2-cefe31085cea>\u001b[0m in \u001b[0;36m<module>\u001b[0;34m()\u001b[0m\n\u001b[0;32m----> 1\u001b[0;31m \u001b[0mPDP3ERHOBeam\u001b[0m\u001b[0;34m(\u001b[0m\u001b[0;34m'../parameters.xml'\u001b[0m\u001b[0;34m,\u001b[0m \u001b[0;34m'./test.avi'\u001b[0m\u001b[0;34m)\u001b[0m\u001b[0;34m\u001b[0m\u001b[0m\n\u001b[0m",
      "\u001b[0;32m~/dev/pdp3_hdf5/tools_ng/builder/PDP_3_E_RHObeam_r_z.py\u001b[0m in \u001b[0;36m__init__\u001b[0;34m(self, parameters_file, video_file, cmap, clim_e_r, clim_e_z, beam_scale_factor, view, dry_run)\u001b[0m\n\u001b[1;32m     24\u001b[0m                                            \u001b[0mself\u001b[0m\u001b[0;34m.\u001b[0m\u001b[0m__font_family__\u001b[0m\u001b[0;34m,\u001b[0m\u001b[0;34m\u001b[0m\u001b[0m\n\u001b[1;32m     25\u001b[0m                                            \u001b[0mself\u001b[0m\u001b[0;34m.\u001b[0m\u001b[0m__font_name__\u001b[0m\u001b[0;34m,\u001b[0m\u001b[0;34m\u001b[0m\u001b[0m\n\u001b[0;32m---> 26\u001b[0;31m                                            self.__font_size__)\n\u001b[0m\u001b[1;32m     27\u001b[0m \u001b[0;34m\u001b[0m\u001b[0m\n\u001b[1;32m     28\u001b[0m \u001b[0;34m\u001b[0m\u001b[0m\n",
      "\u001b[0;32m~/dev/pdp3_hdf5/tools_ng/builder/builder.py\u001b[0m in \u001b[0;36m__init__\u001b[0;34m(self, parameters_file, fig_color, fig_width, fig_height, fig_dpi, font_family, font_name, font_size)\u001b[0m\n\u001b[1;32m     23\u001b[0m         \u001b[0;32melse\u001b[0m\u001b[0;34m:\u001b[0m\u001b[0;34m\u001b[0m\u001b[0m\n\u001b[1;32m     24\u001b[0m             self.__reader__ = PlainReader(self.__cfg__.data_path,\n\u001b[0;32m---> 25\u001b[0;31m                                           \u001b[0mself\u001b[0m\u001b[0;34m.\u001b[0m\u001b[0m__cfg__\u001b[0m\u001b[0;34m.\u001b[0m\u001b[0mdump_path\u001b[0m\u001b[0;34m,\u001b[0m\u001b[0;34m\u001b[0m\u001b[0m\n\u001b[0m\u001b[1;32m     26\u001b[0m                                           shape=[self.__cfg__.number_r_grid,\n\u001b[1;32m     27\u001b[0m                                                  self.__cfg__.number_z_grid],\n",
      "\u001b[0;31mAttributeError\u001b[0m: 'Parameters' object has no attribute 'dump_path'"
     ]
    }
   ],
   "source": [
    "PDP3ERHOBeam('../parameters.xml', './test.avi')"
   ]
  },
  {
   "cell_type": "code",
   "execution_count": null,
   "metadata": {},
   "outputs": [],
   "source": []
  }
 ],
 "metadata": {
  "kernelspec": {
   "display_name": "Python 3",
   "language": "python",
   "name": "python3"
  },
  "language_info": {
   "codemirror_mode": {
    "name": "ipython",
    "version": 3
   },
   "file_extension": ".py",
   "mimetype": "text/x-python",
   "name": "python",
   "nbconvert_exporter": "python",
   "pygments_lexer": "ipython3",
   "version": "3.6.5"
  }
 },
 "nbformat": 4,
 "nbformat_minor": 2
}
