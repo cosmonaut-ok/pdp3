{
 "cells": [
  {
   "cell_type": "code",
   "execution_count": 1,
   "metadata": {},
   "outputs": [],
   "source": [
    "import h5py"
   ]
  },
  {
   "cell_type": "code",
   "execution_count": 2,
   "metadata": {},
   "outputs": [],
   "source": [
    "f = h5py.File('testdir/data.h5')"
   ]
  },
  {
   "cell_type": "code",
   "execution_count": 3,
   "metadata": {},
   "outputs": [
    {
     "data": {
      "text/plain": [
       "['E_r', 'E_z', 'Electrons', 'Ions', 'J_r', 'J_z', 'rho_beam']"
      ]
     },
     "execution_count": 3,
     "metadata": {},
     "output_type": "execute_result"
    }
   ],
   "source": [
    "list(f['pdp3_result'].keys())"
   ]
  },
  {
   "cell_type": "code",
   "execution_count": 4,
   "metadata": {},
   "outputs": [
    {
     "data": {
      "text/plain": [
       "[['E_r', ['0:0_254:2046']],\n",
       " ['E_z', ['0:0_254:2046']],\n",
       " ['Electrons', ['100:100_150:150']],\n",
       " ['Ions', ['100:100_150:150']],\n",
       " ['J_r', ['0:0_254:2046']],\n",
       " ['J_z', ['0:0_254:2046']],\n",
       " ['rho_beam', ['0:0_254:2046']]]"
      ]
     },
     "execution_count": 4,
     "metadata": {},
     "output_type": "execute_result"
    }
   ],
   "source": [
    "collect = []\n",
    "keys = list(f['pdp3_result'].keys())\n",
    "for i in keys:\n",
    "    try:\n",
    "        collect.append([i, list(f['pdp3_result'][i]['frame'])])\n",
    "    except:\n",
    "        collect.append([i, list(f['pdp3_result'][i]['mpframe'])])      \n",
    "collect"
   ]
  },
  {
   "cell_type": "code",
   "execution_count": 5,
   "metadata": {},
   "outputs": [
    {
     "data": {
      "text/plain": [
       "254"
      ]
     },
     "execution_count": 5,
     "metadata": {},
     "output_type": "execute_result"
    }
   ],
   "source": [
    "len(list(f['pdp3_result']['E_z']['frame']['0:0_254:2046']))"
   ]
  }
 ],
 "metadata": {
  "kernelspec": {
   "display_name": "Python 3",
   "language": "python",
   "name": "python3"
  },
  "language_info": {
   "codemirror_mode": {
    "name": "ipython",
    "version": 3
   },
   "file_extension": ".py",
   "mimetype": "text/x-python",
   "name": "python",
   "nbconvert_exporter": "python",
   "pygments_lexer": "ipython3",
   "version": "3.6.6"
  }
 },
 "nbformat": 4,
 "nbformat_minor": 2
}
