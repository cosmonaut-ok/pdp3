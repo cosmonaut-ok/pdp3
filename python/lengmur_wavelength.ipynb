{
 "cells": [
  {
   "cell_type": "code",
   "execution_count": 1,
   "metadata": {},
   "outputs": [],
   "source": [
    "import math"
   ]
  },
  {
   "cell_type": "code",
   "execution_count": 31,
   "metadata": {},
   "outputs": [],
   "source": [
    "def lengmur(n, v):\n",
    "    charge_el = -1.6e-19 # coul\n",
    "    mass_el = 9.1e-31 # kg\n",
    "    epsilon_0 = 8.8e-12\n",
    "    pi = 3.1415\n",
    "    zzz = (n*charge_el*charge_el)/(mass_el*epsilon_0)\n",
    "    w_p = math.sqrt(zzz)\n",
    "    lambda_ = 2*pi*v/w_p\n",
    "    print(lambda_)"
   ]
  },
  {
   "cell_type": "code",
   "execution_count": 36,
   "metadata": {},
   "outputs": [
    {
     "name": "stdout",
     "output_type": "stream",
     "text": [
      "0.22224863635408432\n"
     ]
    },
    {
     "data": {
      "text/plain": [
       "0.22224863635408432"
      ]
     },
     "execution_count": 36,
     "metadata": {},
     "output_type": "execute_result"
    }
   ],
   "source": [
    "lengmur(1e16, 2e8)"
   ]
  },
  {
   "cell_type": "code",
   "execution_count": null,
   "metadata": {},
   "outputs": [],
   "source": []
  }
 ],
 "metadata": {
  "kernelspec": {
   "display_name": "Python 3",
   "language": "python",
   "name": "python3"
  },
  "language_info": {
   "codemirror_mode": {
    "name": "ipython",
    "version": 3
   },
   "file_extension": ".py",
   "mimetype": "text/x-python",
   "name": "python",
   "nbconvert_exporter": "python",
   "pygments_lexer": "ipython3",
   "version": "3.6.4"
  }
 },
 "nbformat": 4,
 "nbformat_minor": 2
}
