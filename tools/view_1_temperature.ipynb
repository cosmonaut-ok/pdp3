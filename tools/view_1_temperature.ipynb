{
 "cells": [
  {
   "cell_type": "code",
   "execution_count": null,
   "metadata": {},
   "outputs": [],
   "source": [
    "# define matplotlibplotting backend\n",
    "# %matplotlib -l shows all available backends\n",
    "%matplotlib qt"
   ]
  },
  {
   "cell_type": "code",
   "execution_count": null,
   "metadata": {},
   "outputs": [],
   "source": [
    "import numpy as np\n",
    "import math\n",
    "\n",
    "from lib.parameters import Parameters\n",
    "from lib.plot_builder import PlotBuilder\n",
    "# from lib.h5_reader import H5Reader\n",
    "# from lib.plain_reader import PlainReader"
   ]
  },
  {
   "cell_type": "code",
   "execution_count": null,
   "metadata": {},
   "outputs": [],
   "source": [
    "temperature=[]\n",
    "\n",
    "config_file = '../testdir/parameters.xml'\n",
    "\n",
    "cfg = Parameters(config_file)\n",
    "\n",
    "shape=[100, 100, 150, 150]\n",
    "# shape=[cfg.start_time, cfg.end_time]\n",
    "use_grid=True\n",
    "ylim_r=None\n",
    "ylim_z=None\n",
    "use_cache=False\n",
    "verbose=True\n",
    "set_ylim=False\n",
    "component='electrons'\n",
    "\n",
    "x_axis_label = r'$\\mathit{t (s)}$'\n",
    "y_axis_label = r'$\\mathit{T ( K^\\circ )}$'\n",
    "\n",
    "plot_name = r'$\\mathbf{Temperature-time \\enspace Dependency}\\enspace(T)$'"
   ]
  },
  {
   "cell_type": "code",
   "execution_count": null,
   "metadata": {},
   "outputs": [],
   "source": [
    "start_frame = 0 # cfg.get_frame_number_by_timestamp(time_range[0])\n",
    "end_frame = 46 # cfg.get_frame_number_by_timestamp(time_range[1])\n",
    "\n",
    "for probe in cfg.probes:\n",
    "    if (probe.type == 'mpframe') and (probe.component == component) and (probe.r_start == shape[0]) and (probe.z_start == shape[1]) and (probe.r_end == shape[2]) and (probe.z_end == shape[3]):\n",
    "        for i in range(start_frame, end_frame):\n",
    "            el_sum=0\n",
    "            # calculating element\n",
    "            r = np.fromfile(\"{}/{}/{}/mpframe_{}:{}_{}:{}/{}_vel_r.dat\".format(cfg.config_path, cfg.data_root, probe.component, shape[0], shape[1], shape[2], shape[3], i), dtype='float', sep=' ')\n",
    "            phi = np.fromfile(\"{}/{}/{}/mpframe_{}:{}_{}:{}/{}_vel_phi.dat\".format(cfg.config_path, cfg.data_root, probe.component, shape[0], shape[1], shape[2], shape[3], i), dtype='float', sep=' ')\n",
    "            z = np.fromfile(\"{}/{}/{}/mpframe_{}:{}_{}:{}/{}_vel_z.dat\".format(cfg.config_path, cfg.data_root, probe.component, shape[0], shape[1], shape[2], shape[3], i), dtype='float', sep=' ')\n",
    "            print(\"processing frame\", i)\n",
    "            for i in range(0, len(r)-1):\n",
    "                el_sum += math.sqrt(r[i]*r[i]+phi[i]*phi[i]+z[i]*z[i])\n",
    "                \n",
    "            temperature.append(el_sum / len(r))\n",
    "                \n"
   ]
  },
  {
   "cell_type": "code",
   "execution_count": null,
   "metadata": {},
   "outputs": [],
   "source": [
    "# data_timeline = np.linspace(time_range[0], time_range[1], len(data_r))\n",
    "data_timeline = np.linspace(0, len(temperature)-1, len(temperature))\n",
    "# define plot builder\n",
    "plot = PlotBuilder(0, 0, # let the system detects sizes automatically\n",
    "                   fig_color=cfg.figure_color, \n",
    "                   fig_width=cfg.figure_width,\n",
    "                   fig_height=cfg.figure_height, \n",
    "                   fig_dpi=cfg.figure_dpi,\n",
    "                   font_family=cfg.figure_font_family,\n",
    "                   font_name=cfg.figure_font_name,\n",
    "                   font_size=cfg.figure_font_size,\n",
    "                   tickbox=True, grid=use_grid, is_invert_y_axe=False,\n",
    "                   aspect='auto', guess_number_ticks=20,\n",
    "                   # number_x_ticks=10, number_y_ticks=10\n",
    "                   x_ticklabel_end=1e-9, y_ticklabel_end=1e-9\n",
    "                  )\n",
    "\n",
    "# add subplots\n",
    "plot_t = plot.add_subplot_cartesian_2d(plot_name, 111, x_axe_label=x_axis_label, y_axe_label=y_axis_label)\n",
    "\n",
    "# set y-limits\n",
    "if ylim_r is not None:\n",
    "    plot_t.subplot_er.set_ylim(ylim_r)"
   ]
  },
  {
   "cell_type": "code",
   "execution_count": null,
   "metadata": {},
   "outputs": [],
   "source": [
    "plot_t.plot(data_timeline, temperature)\n",
    "\n",
    "plot.show()"
   ]
  }
 ],
 "metadata": {
  "kernelspec": {
   "display_name": "Python 3",
   "language": "python",
   "name": "python3"
  },
  "language_info": {
   "codemirror_mode": {
    "name": "ipython",
    "version": 3
   },
   "file_extension": ".py",
   "mimetype": "text/x-python",
   "name": "python",
   "nbconvert_exporter": "python",
   "pygments_lexer": "ipython3",
   "version": "3.6.6"
  }
 },
 "nbformat": 4,
 "nbformat_minor": 2
}
