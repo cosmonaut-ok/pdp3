{
 "cells": [
  {
   "cell_type": "code",
   "execution_count": null,
   "metadata": {},
   "outputs": [],
   "source": [
    "# define matplotlibplotting backend\n",
    "# %matplotlib -l shows all available backends\n",
    "%matplotlib qt"
   ]
  },
  {
   "cell_type": "code",
   "execution_count": null,
   "metadata": {},
   "outputs": [],
   "source": [
    "import numpy as np\n",
    "import math\n",
    "\n",
    "from lib.parameters import Parameters\n",
    "from lib.plot_builder import PlotBuilder\n",
    "# from lib.h5_reader import H5Reader\n",
    "# from lib.plain_reader import PlainReader"
   ]
  },
  {
   "cell_type": "code",
   "execution_count": null,
   "metadata": {},
   "outputs": [],
   "source": [
    "config_file = '/media/nfs/PDP3/model35r1/parameters.xml'\n",
    "\n",
    "cfg = Parameters(config_file)\n",
    "\n",
    "shape=[130,180,160,280]\n",
    "\n",
    "use_grid=True\n",
    "ylim_r=None\n",
    "ylim_z=None\n",
    "use_cache=False\n",
    "verbose=True\n",
    "set_ylim=False\n",
    "component='electrons'\n",
    "# time_range = [0, cfg.end_time]\n",
    "time_range = [0, 1e-8]\n",
    "\n",
    "x_axis_label = r'$\\mathit{t (s)}$'\n",
    "y_axis_label = r'$\\mathit{T ( K^\\circ )}$'\n",
    "\n",
    "plot_name = r'$\\mathbf{Temperature-time \\enspace Dependency}\\enspace(T)$'"
   ]
  },
  {
   "cell_type": "code",
   "execution_count": null,
   "metadata": {},
   "outputs": [],
   "source": [
    "start_frame = None\n",
    "end_frame = None\n",
    "dump_interval = None\n",
    "temperature=[]\n",
    "\n",
    "temperature_r=[]\n",
    "temperature_phi=[]\n",
    "temperature_z=[]\n",
    "\n",
    "for probe in cfg.probes:\n",
    "    if (probe.type == 'mpframe') and (probe.component == component) and (probe.r_start == shape[0]) and (probe.z_start == shape[1]) and (probe.r_end == shape[2]) and (probe.z_end == shape[3]):\n",
    "        dump_interval = probe.schedule\n",
    "        start_frame = cfg.get_frame_number_by_timestamp(time_range[0], dump_interval)\n",
    "        end_frame = cfg.get_frame_number_by_timestamp(time_range[1], dump_interval)\n",
    "        for i in range(start_frame, end_frame):\n",
    "            el_sum_r=0\n",
    "            el_sum_phi=0\n",
    "            el_sum_z=0\n",
    "            # calculating element\n",
    "            r = np.fromfile(\"{}/{}/{}/mpframe_{}:{}_{}:{}/{}_vel_r.dat\".format(cfg.config_path, cfg.data_root, probe.component, shape[0], shape[1], shape[2], shape[3], i), dtype='float', sep=' ')\n",
    "            phi = np.fromfile(\"{}/{}/{}/mpframe_{}:{}_{}:{}/{}_vel_phi.dat\".format(cfg.config_path, cfg.data_root, probe.component, shape[0], shape[1], shape[2], shape[3], i), dtype='float', sep=' ')\n",
    "            z = np.fromfile(\"{}/{}/{}/mpframe_{}:{}_{}:{}/{}_vel_z.dat\".format(cfg.config_path, cfg.data_root, probe.component, shape[0], shape[1], shape[2], shape[3], i), dtype='float', sep=' ')\n",
    "            print(\"processing frame\", i)\n",
    "            for i in range(0, len(r)-1):\n",
    "                # el_sum_sq += r[i]*r[i]+phi[i]*phi[i]+z[i]*z[i]\n",
    "                el_sum_r += abs(r[i])\n",
    "                el_sum_phi += abs(phi[i])\n",
    "                el_sum_r += abs(z[i])\n",
    "                \n",
    "            # temperature.append(math.sqrt(el_sum_sq / len(r)))\n",
    "            temperature_r.append(el_sum_r / len(r))\n",
    "            temperature_phi.append(el_sum_phi / len(r))\n",
    "            temperature_z.append(el_sum_z / len(r))"
   ]
  },
  {
   "cell_type": "code",
   "execution_count": null,
   "metadata": {},
   "outputs": [],
   "source": [
    "data_timeline = np.linspace(time_range[0], time_range[1], len(temperature_r))\n",
    "\n",
    "# define plot builder\n",
    "plot = PlotBuilder(0, 0, # let the system detects sizes automatically\n",
    "                   fig_color=cfg.figure_color, \n",
    "                   fig_width=cfg.figure_width,\n",
    "                   fig_height=cfg.figure_height, \n",
    "                   fig_dpi=cfg.figure_dpi,\n",
    "                   font_family=cfg.figure_font_family,\n",
    "                   font_name=cfg.figure_font_name,\n",
    "                   font_size=cfg.figure_font_size,\n",
    "                   tickbox=True, grid=use_grid, is_invert_y_axe=False,\n",
    "                   aspect='auto', guess_number_ticks=20,\n",
    "                   x_ticklabel_start=time_range[0],\n",
    "                   x_ticklabel_end=time_range[1]\n",
    "                  )\n",
    "\n",
    "# add subplots\n",
    "plot_t = plot.add_subplot_cartesian_2d(plot_name, 111, x_axe_label=x_axis_label, y_axe_label=y_axis_label)\n",
    "\n",
    "# set y-limits\n",
    "if ylim_r is not None:\n",
    "    plot_t.subplot_er.set_ylim(ylim_r)"
   ]
  },
  {
   "cell_type": "code",
   "execution_count": null,
   "metadata": {},
   "outputs": [],
   "source": [
    "plot_t.plot(data_timeline, temperature_r)\n",
    "plot_t.plot(data_timeline, temperature_phi)\n",
    "plot_t.plot(data_timeline, temperature_z)\n",
    "plot_t.legend(loc='upper left')\n",
    "\n",
    "plot.show()"
   ]
  }
 ],
 "metadata": {
  "kernelspec": {
   "display_name": "Python 3",
   "language": "python",
   "name": "python3"
  },
  "language_info": {
   "codemirror_mode": {
    "name": "ipython",
    "version": 3
   },
   "file_extension": ".py",
   "mimetype": "text/x-python",
   "name": "python",
   "nbconvert_exporter": "python",
   "pygments_lexer": "ipython3",
   "version": "3.6.6"
  }
 },
 "nbformat": 4,
 "nbformat_minor": 2
}
