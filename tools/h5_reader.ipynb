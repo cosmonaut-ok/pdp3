{
 "cells": [
  {
   "cell_type": "code",
   "execution_count": 1,
   "metadata": {},
   "outputs": [
    {
     "name": "stderr",
     "output_type": "stream",
     "text": [
      "/home/vyo/anaconda3/lib/python3.6/site-packages/h5py/__init__.py:36: FutureWarning: Conversion of the second argument of issubdtype from `float` to `np.floating` is deprecated. In future, it will be treated as `np.float64 == np.dtype(float).type`.\n",
      "  from ._conv import register_converters as _register_converters\n"
     ]
    }
   ],
   "source": [
    "import numpy as np\n",
    "import h5py\n",
    "from os.path import join # to use \"join\" for namespaces"
   ]
  },
  {
   "cell_type": "code",
   "execution_count": 2,
   "metadata": {},
   "outputs": [],
   "source": [
    "f = h5py.File('data.h5', 'r')"
   ]
  },
  {
   "cell_type": "code",
   "execution_count": 3,
   "metadata": {},
   "outputs": [],
   "source": [
    "base_keyspace = '/pdp3/result'\n",
    "E_r_keyspace = 'E_r'\n",
    "E_z_keyspace = 'E_z'\n",
    "J_z_keyspace = 'J_z'\n",
    "J_r_keyspace = 'J_r'\n",
    "J_phi_keyspace = 'J_phi'\n",
    "rho_beam_keyspace = 'rho_beam'"
   ]
  },
  {
   "cell_type": "code",
   "execution_count": 24,
   "metadata": {},
   "outputs": [
    {
     "name": "stdout",
     "output_type": "stream",
     "text": [
      "0\n",
      "1\n",
      "10\n",
      "100\n",
      "101\n",
      "102\n",
      "103\n",
      "104\n",
      "105\n",
      "106\n",
      "107\n",
      "108\n",
      "109\n",
      "11\n",
      "110\n",
      "111\n",
      "112\n",
      "113\n",
      "114\n",
      "115\n",
      "116\n",
      "117\n",
      "118\n",
      "119\n",
      "12\n",
      "120\n",
      "121\n",
      "122\n",
      "123\n",
      "124\n",
      "125\n",
      "126\n",
      "127\n",
      "128\n",
      "129\n",
      "13\n",
      "130\n",
      "131\n",
      "132\n",
      "133\n",
      "134\n",
      "135\n",
      "136\n",
      "137\n",
      "138\n",
      "139\n",
      "14\n",
      "140\n",
      "141\n",
      "142\n",
      "143\n",
      "144\n",
      "145\n",
      "146\n",
      "147\n",
      "148\n",
      "149\n",
      "15\n",
      "150\n",
      "151\n",
      "152\n",
      "153\n",
      "154\n",
      "155\n",
      "156\n",
      "157\n",
      "158\n",
      "159\n",
      "16\n",
      "160\n",
      "161\n",
      "162\n",
      "163\n",
      "164\n",
      "165\n",
      "166\n",
      "167\n",
      "168\n",
      "169\n",
      "17\n",
      "170\n",
      "171\n",
      "172\n",
      "173\n",
      "174\n",
      "175\n",
      "176\n",
      "177\n",
      "178\n",
      "179\n",
      "18\n",
      "180\n",
      "181\n",
      "182\n",
      "183\n",
      "184\n",
      "185\n",
      "186\n",
      "187\n",
      "188\n",
      "189\n",
      "19\n",
      "190\n",
      "191\n",
      "192\n",
      "193\n",
      "194\n",
      "195\n",
      "196\n",
      "197\n",
      "198\n",
      "199\n",
      "2\n",
      "20\n",
      "21\n",
      "22\n",
      "23\n",
      "24\n",
      "25\n",
      "26\n",
      "27\n",
      "28\n",
      "29\n",
      "3\n",
      "30\n",
      "31\n",
      "32\n",
      "33\n",
      "34\n",
      "35\n",
      "36\n",
      "37\n",
      "38\n",
      "39\n",
      "4\n",
      "40\n",
      "41\n",
      "42\n",
      "43\n",
      "44\n",
      "45\n",
      "46\n",
      "47\n",
      "48\n",
      "49\n",
      "5\n",
      "50\n",
      "51\n",
      "52\n",
      "53\n",
      "54\n",
      "55\n",
      "56\n",
      "57\n",
      "58\n",
      "59\n",
      "6\n",
      "60\n",
      "61\n",
      "62\n",
      "63\n",
      "64\n",
      "65\n",
      "66\n",
      "67\n",
      "68\n",
      "69\n",
      "7\n",
      "70\n",
      "71\n",
      "72\n",
      "73\n",
      "74\n",
      "75\n",
      "76\n",
      "77\n",
      "78\n",
      "79\n",
      "8\n",
      "80\n",
      "81\n",
      "82\n",
      "83\n",
      "84\n",
      "85\n",
      "86\n",
      "87\n",
      "88\n",
      "89\n",
      "9\n",
      "90\n",
      "91\n",
      "92\n",
      "93\n",
      "94\n",
      "95\n",
      "96\n",
      "97\n",
      "98\n",
      "99\n"
     ]
    }
   ],
   "source": [
    "for i in f[join(base_keyspace, E_r_keyspace)].keys():\n",
    "    print(i)"
   ]
  },
  {
   "cell_type": "code",
   "execution_count": 4,
   "metadata": {},
   "outputs": [],
   "source": [
    "def get_frame(file, space, number):\n",
    "    file_path = join(base_keyspace, space, str(number))\n",
    "    frame = file[file_path][:]\n",
    "    return frame"
   ]
  },
  {
   "cell_type": "code",
   "execution_count": 5,
   "metadata": {},
   "outputs": [
    {
     "data": {
      "text/plain": [
       "array([[-1.26701970e-14, -4.09586534e-14, -7.97563249e-14, ...,\n",
       "         1.25903279e-12,  1.32998006e-12,  1.29941977e-12],\n",
       "       [-1.40620651e+04, -3.36155445e+03, -3.09731202e+03, ...,\n",
       "        -7.60904673e+03,  6.96400681e+03,  5.08735462e+02],\n",
       "       [ 6.58347153e+03,  3.48660164e+03,  3.77127769e+03, ...,\n",
       "        -8.79470473e+03,  1.43961234e+04, -4.92295194e+03],\n",
       "       ...,\n",
       "       [-3.77790867e+03, -5.74989329e+03,  9.23108976e+03, ...,\n",
       "        -9.14344710e+03,  1.06415889e+03,  2.67540740e+03],\n",
       "       [-2.71863331e+02,  1.76799861e+02, -2.82810543e+03, ...,\n",
       "         5.87973851e+02,  4.98011436e+03,  3.11285179e+03],\n",
       "       [ 6.36091260e+02,  3.24839260e+03, -1.24205575e+04, ...,\n",
       "         4.78330348e+03,  1.07172117e+03,  1.19581162e+03]])"
      ]
     },
     "execution_count": 5,
     "metadata": {},
     "output_type": "execute_result"
    }
   ],
   "source": [
    "get_frame(f, E_r_keyspace, 10)"
   ]
  },
  {
   "cell_type": "code",
   "execution_count": 6,
   "metadata": {},
   "outputs": [],
   "source": [
    "def get_row(file, space, number, row_number):\n",
    "    file_path = join(base_keyspace, space, str(number))\n",
    "    row = file[file_path][row_number]\n",
    "    return(row)"
   ]
  },
  {
   "cell_type": "code",
   "execution_count": 7,
   "metadata": {},
   "outputs": [],
   "source": [
    "def get_col(file, space, number, col_number):\n",
    "    file_path = join(base_keyspace, space, str(number))\n",
    "    col = file[file_path][:,col_number]\n",
    "    return(col)"
   ]
  },
  {
   "cell_type": "code",
   "execution_count": 43,
   "metadata": {},
   "outputs": [],
   "source": [
    "class H5Reader:\n",
    "    def __init__(self, h5_path, base_keyspace='/pdp3/result', dump_keyspace='/pdp3/dump'):\n",
    "        self.file = h5py.File(h5_path)\n",
    "        self.__base_keyspace = base_keyspace\n",
    "        self.__dump_keyspace = dump_keyspace\n",
    "        \n",
    "\n",
    "    def __get_path__(self, space, ds=''):\n",
    "        path = join(self.__base_keyspace, space, str(ds))\n",
    "        return(path)\n",
    "        \n",
    "        \n",
    "    def __check_frame__(self, space, frame):\n",
    "        if frame < 0:\n",
    "            raise Exception('frame should not be less, than 0. The value was: {}'.format(frame))\n",
    "        else:\n",
    "            path = self.__get_path__(space)\n",
    "            space_length = len(self.file[path])\n",
    "            if space_length < frame:\n",
    "                raise Exception('frame should be less, than {}. The value was: {}'.format(space_length, frame))\n",
    "            else:\n",
    "                return(True)\n",
    "\n",
    "\n",
    "    def __check_row__(self, space, row):\n",
    "        if row < 0:\n",
    "            raise Exception('row should not be less than 0. The value was {}'.format(row))\n",
    "        else:\n",
    "            path = self.__get_path__(space, 0)\n",
    "            frame_length = len(self.file[path])\n",
    "            if frame_length < row:\n",
    "                raise Exception('Out of range: row should be less, than {}. The value was {}.'.format(row, frame_length))\n",
    "            else:\n",
    "                return(True)\n",
    "        \n",
    "        \n",
    "    def __check_col__(self, space, col):\n",
    "        if col < 0:\n",
    "            raise Exception('column should not be less than 0. The value was {}'.format(col))\n",
    "        else:\n",
    "            path = self.__get_path__(space, 0)\n",
    "            frame_height = len(self.file[path][0])\n",
    "            if frame_height < col:\n",
    "                raise Exception('Out of range: column should be less, than {}. The value was {}.'.format(col, frame_height))\n",
    "            else:\n",
    "                return(True)\n",
    "        \n",
    "        \n",
    "    def __check_frame_range__(self, space, from_frame, to_frame):       \n",
    "        if to_frame < from_frame:\n",
    "            raise Exception('from_frame should be less or equal, than to_frame. The values was: {} and {}'.format(from_frame, to_frame))\n",
    "        elif from_frame < 0:\n",
    "            raise Exception('from_frame should not be less, than 0. The value was: {}'.format(from_frame))\n",
    "        else:\n",
    "            return(self.__check_frame__(space, to_frame))\n",
    "        \n",
    "        \n",
    "    def __check_row_range__(self, space, from_row, to_row):\n",
    "        if from_row < 0:\n",
    "            raise Exception('from_row should not be less than 0. The value was {}'.format(from_row))\n",
    "        elif to_row < from_row:\n",
    "            raise Exception('from_row should be less than to_row. The values were {} and {}'.format(from_row, to_row))\n",
    "        else:\n",
    "            return(self.__check_row__(space, to_row))\n",
    "        \n",
    "        \n",
    "    def __check_col_range__(self, space, from_col, to_col):\n",
    "        if from_col < 0:\n",
    "            raise Exception('from_col should not be less than 0. The value was {}'.format(from_col))\n",
    "        elif to_col < from_col:\n",
    "            raise Exception('from_col should be less than to_col. The values were {} and {}'.format(from_col, to_col))\n",
    "        else:\n",
    "            return(self.__check_col__(space, to_col))\n",
    "\n",
    "#################################################################################################\n",
    "#################################################################################################\n",
    "#################################################################################################\n",
    "        \n",
    "    def get_frame(self, space, number):\n",
    "        if self.__check_frame__(space, number):\n",
    "            path = self.__get_path__(space, number)\n",
    "            frame = self.file[path][:]\n",
    "            return frame\n",
    "    \n",
    "    \n",
    "    def get_row(self, space, number, row_number):\n",
    "        if self.__check_frame__(space, number) and self.__check_row__(space, row_number):\n",
    "            path = self.__get_path__(space, number)\n",
    "            row = self.file[path][:,row_number]\n",
    "            return(row)\n",
    "    \n",
    "    \n",
    "    def get_col(self, space, number, col_number):\n",
    "        if self.__check_frame__(space, number) and self.__check_col__(space, col_number):\n",
    "            path = self.__get_path__(space, number)\n",
    "            col = self.file[path][col_number]\n",
    "            return(col)\n",
    "    \n",
    "    \n",
    "    def get_point(self, space, number, row_number, col_number):\n",
    "        if self.__check_frame__(space, number) and self.__check_row__(space, row_number) and self.__check_col__(space, col_number):\n",
    "            path = self.__get_path__(space, number)\n",
    "            point = self.file[path][row_number][col_number]\n",
    "            return(point)\n",
    "\n",
    "        \n",
    "###################################################################\n",
    "\n",
    "    def get_frame_range(self, space, from_frame=0, to_frame=None):\n",
    "        path = self.__get_path__(space, 0)\n",
    "        frame_length = len(self.file[path])\n",
    "        frame_height = len(self.file[path][0])\n",
    "\n",
    "        if not to_frame:\n",
    "            path = self.__get_path__(space)\n",
    "            space_length = len(self.file[path])\n",
    "            to_frame = space_length-1\n",
    "\n",
    "        if self.__check_frame_range__(space, from_frame, to_frame):\n",
    "            frames = np.empty([to_frame - from_frame + 1, frame_length, frame_height])\n",
    "            \n",
    "            for i in range(from_frame, to_frame + 1):\n",
    "                path = self.__get_path__(space, i)\n",
    "                frames[i-from_frame] = self.file[path][:]\n",
    "            return(frames)\n",
    "        \n",
    "        \n",
    "    def get_frame_range_row(self, space, from_frame=0, to_frame=None, row_number=0):\n",
    "        path = self.__get_path__(space, 0)\n",
    "        frame_length = len(self.file[path])\n",
    "        frame_height = len(self.file[path][0])\n",
    "\n",
    "        if not to_frame:\n",
    "            space_length = len(self.file[path])\n",
    "            to_frame = space_length-1\n",
    "            \n",
    "        if self.__check_frame_range__(space, from_frame, to_frame) and self.__check_row__(space, row_number):\n",
    "            rows = []\n",
    "            for i in range(from_frame, to_frame+1):\n",
    "                path = self.__get_path__(space, i)\n",
    "                rows.append(self.file[path][row_number])\n",
    "            return(rows)\n",
    "\n",
    "\n",
    "    def get_frame_range_col(self, space, from_frame=0, to_frame=None, col_number=0):\n",
    "        if not to_frame:\n",
    "            path = self.__get_path__(space, 0)\n",
    "            space_length = len(self.file[path])\n",
    "            to_frame = space_length-1\n",
    "            \n",
    "        if self.__check_frame_range__(space, from_frame, to_frame) and self.__check_col__(space, col_number):\n",
    "            cols = []\n",
    "            for i in range(from_frame, to_frame+1):\n",
    "                path = self.__get_path__(space, i)\n",
    "                cols.append(self.file[path][:,col_number])\n",
    "            return(cols)\n"
   ]
  },
  {
   "cell_type": "code",
   "execution_count": 44,
   "metadata": {},
   "outputs": [],
   "source": [
    "h5f = H5Reader('./data.h5')"
   ]
  },
  {
   "cell_type": "code",
   "execution_count": 45,
   "metadata": {},
   "outputs": [],
   "source": [
    "a = h5f.get_frame(E_r_keyspace, 100)"
   ]
  },
  {
   "cell_type": "code",
   "execution_count": 46,
   "metadata": {},
   "outputs": [
    {
     "data": {
      "text/plain": [
       "array([-1.26701970e-14, -8.40747411e+04,  4.71899367e+04, ...,\n",
       "       -1.08085506e+03,  9.52596989e+02,  3.23037823e+02])"
      ]
     },
     "execution_count": 46,
     "metadata": {},
     "output_type": "execute_result"
    }
   ],
   "source": [
    "a[:,0]"
   ]
  },
  {
   "cell_type": "code",
   "execution_count": 47,
   "metadata": {},
   "outputs": [],
   "source": [
    "y_1 = h5f.get_row(E_r_keyspace, 10, 4)\n",
    "y_2 = h5f.get_col(E_r_keyspace, 10, 4)"
   ]
  },
  {
   "cell_type": "code",
   "execution_count": 58,
   "metadata": {},
   "outputs": [
    {
     "name": "stdout",
     "output_type": "stream",
     "text": [
      "2046 254\n"
     ]
    }
   ],
   "source": [
    "print(len(y_1), len(y_2))"
   ]
  },
  {
   "cell_type": "code",
   "execution_count": 60,
   "metadata": {},
   "outputs": [],
   "source": [
    "x_1 = np.linspace(0, 2045, 2046)\n",
    "x_2 = np.linspace(0, 253, 254)"
   ]
  },
  {
   "cell_type": "code",
   "execution_count": 61,
   "metadata": {},
   "outputs": [],
   "source": [
    "import matplotlib.pyplot as plt"
   ]
  },
  {
   "cell_type": "code",
   "execution_count": 62,
   "metadata": {},
   "outputs": [
    {
     "data": {
      "text/plain": [
       "[<matplotlib.lines.Line2D at 0x7f7742ad7be0>]"
      ]
     },
     "execution_count": 62,
     "metadata": {},
     "output_type": "execute_result"
    },
    {
     "data": {
      "image/png": "[encoded data removed]",
      "text/plain": [
       "<matplotlib.figure.Figure at 0x7f77429c0ac8>"
      ]
     },
     "metadata": {},
     "output_type": "display_data"
    }
   ],
   "source": [
    "plt.plot(x_2, y_2)"
   ]
  },
  {
   "cell_type": "code",
   "execution_count": 178,
   "metadata": {},
   "outputs": [],
   "source": [
    "a = np.ones([3, 2, 3])"
   ]
  },
  {
   "cell_type": "code",
   "execution_count": 179,
   "metadata": {},
   "outputs": [
    {
     "data": {
      "text/plain": [
       "array([[[1., 1., 1.],\n",
       "        [1., 1., 1.]],\n",
       "\n",
       "       [[1., 1., 1.],\n",
       "        [1., 1., 1.]],\n",
       "\n",
       "       [[1., 1., 1.],\n",
       "        [1., 1., 1.]]])"
      ]
     },
     "execution_count": 179,
     "metadata": {},
     "output_type": "execute_result"
    }
   ],
   "source": [
    "a"
   ]
  },
  {
   "cell_type": "code",
   "execution_count": 256,
   "metadata": {},
   "outputs": [],
   "source": [
    "def __get_path__(base, space, ds=''):\n",
    "    path = join(base, space, str(ds))\n",
    "    return(path)"
   ]
  },
  {
   "cell_type": "code",
   "execution_count": 258,
   "metadata": {},
   "outputs": [
    {
     "data": {
      "text/plain": [
       "'/pdp/result/E_z/0'"
      ]
     },
     "execution_count": 258,
     "metadata": {},
     "output_type": "execute_result"
    }
   ],
   "source": [
    "__get_path__('/pdp/result', 'E_z', 0)"
   ]
  },
  {
   "cell_type": "code",
   "execution_count": null,
   "metadata": {},
   "outputs": [],
   "source": []
  }
 ],
 "metadata": {
  "kernelspec": {
   "display_name": "Python 3",
   "language": "python",
   "name": "python3"
  },
  "language_info": {
   "codemirror_mode": {
    "name": "ipython",
    "version": 3
   },
   "file_extension": ".py",
   "mimetype": "text/x-python",
   "name": "python",
   "nbconvert_exporter": "python",
   "pygments_lexer": "ipython3",
   "version": "3.6.4"
  }
 },
 "nbformat": 4,
 "nbformat_minor": 2
}
