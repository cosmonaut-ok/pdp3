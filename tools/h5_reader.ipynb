{
 "cells": [
  {
   "cell_type": "code",
   "execution_count": null,
   "metadata": {},
   "outputs": [],
   "source": [
    "import numpy as np\n",
    "import h5py\n",
    "from os.path import join # to use \"join\" for namespaces"
   ]
  },
  {
   "cell_type": "code",
   "execution_count": null,
   "metadata": {},
   "outputs": [],
   "source": [
    "f = h5py.File('data.h5', 'r')"
   ]
  },
  {
   "cell_type": "code",
   "execution_count": null,
   "metadata": {},
   "outputs": [],
   "source": [
    "base_keyspace = '/pdp3/result'\n",
    "E_r_keyspace = 'E_r'\n",
    "E_z_keyspace = 'E_z'\n",
    "J_z_keyspace = 'J_z'\n",
    "J_r_keyspace = 'J_r'\n",
    "J_phi_keyspace = 'J_phi'\n",
    "rho_beam_keyspace = 'rho_beam'"
   ]
  },
  {
   "cell_type": "code",
   "execution_count": null,
   "metadata": {},
   "outputs": [],
   "source": [
    "for i in f[join(base_keyspace, E_r_keyspace)].keys():\n",
    "    print(i)"
   ]
  },
  {
   "cell_type": "code",
   "execution_count": null,
   "metadata": {},
   "outputs": [],
   "source": [
    "def get_frame(file, space, number):\n",
    "    file_path = join(base_keyspace, space, str(number))\n",
    "    frame = file[file_path][:]\n",
    "    return frame"
   ]
  },
  {
   "cell_type": "code",
   "execution_count": null,
   "metadata": {},
   "outputs": [],
   "source": [
    "get_frame(f, E_r_keyspace, 10)"
   ]
  },
  {
   "cell_type": "code",
   "execution_count": null,
   "metadata": {},
   "outputs": [],
   "source": [
    "def get_row(file, space, number, row_number):\n",
    "    file_path = join(base_keyspace, space, str(number))\n",
    "    row = file[file_path][row_number]\n",
    "    return(row)"
   ]
  },
  {
   "cell_type": "code",
   "execution_count": null,
   "metadata": {},
   "outputs": [],
   "source": [
    "def get_col(file, space, number, col_number):\n",
    "    file_path = join(base_keyspace, space, str(number))\n",
    "    col = file[file_path][:,col_number]\n",
    "    return(col)"
   ]
  },
  {
   "cell_type": "code",
   "execution_count": null,
   "metadata": {},
   "outputs": [],
   "source": [
    "class H5Reader:\n",
    "    def __init__(self, h5_path, base_keyspace='/pdp3/result', dump_keyspace='/pdp3/dump'):\n",
    "        self.file = h5py.File(h5_path)\n",
    "        self.__base_keyspace = base_keyspace\n",
    "        self.__dump_keyspace = dump_keyspace\n",
    "        \n",
    "\n",
    "    def __get_path__(self, space, ds=''):\n",
    "        path = join(self.__base_keyspace, space, str(ds))\n",
    "        return(path)\n",
    "        \n",
    "        \n",
    "    def __check_frame__(self, space, frame):\n",
    "        if frame < 0:\n",
    "            raise Exception('frame should not be less, than 0. The value was: {}'.format(frame))\n",
    "        else:\n",
    "            path = self.__get_path__(space)\n",
    "            space_length = len(self.file[path])\n",
    "            if space_length < frame:\n",
    "                raise Exception('frame should be less, than {}. The value was: {}'.format(space_length, frame))\n",
    "            else:\n",
    "                return(True)\n",
    "\n",
    "\n",
    "    def __check_row__(self, space, row):\n",
    "        if row < 0:\n",
    "            raise Exception('row should not be less than 0. The value was {}'.format(row))\n",
    "        else:\n",
    "            path = self.__get_path__(space, 0)\n",
    "            frame_length = len(self.file[path])\n",
    "            if frame_length < row:\n",
    "                raise Exception('Out of range: row should be less, than {}. The value was {}.'.format(row, frame_length))\n",
    "            else:\n",
    "                return(True)\n",
    "        \n",
    "        \n",
    "    def __check_col__(self, space, col):\n",
    "        if col < 0:\n",
    "            raise Exception('column should not be less than 0. The value was {}'.format(col))\n",
    "        else:\n",
    "            path = self.__get_path__(space, 0)\n",
    "            frame_height = len(self.file[path][0])\n",
    "            if frame_height < col:\n",
    "                raise Exception('Out of range: column should be less, than {}. The value was {}.'.format(col, frame_height))\n",
    "            else:\n",
    "                return(True)\n",
    "        \n",
    "        \n",
    "    def __check_frame_range__(self, space, from_frame, to_frame):       \n",
    "        if to_frame < from_frame:\n",
    "            raise Exception('from_frame should be less or equal, than to_frame. The values was: {} and {}'.format(from_frame, to_frame))\n",
    "        elif from_frame < 0:\n",
    "            raise Exception('from_frame should not be less, than 0. The value was: {}'.format(from_frame))\n",
    "        else:\n",
    "            return(self.__check_frame__(space, to_frame))\n",
    "        \n",
    "        \n",
    "    def __check_row_range__(self, space, from_row, to_row):\n",
    "        if from_row < 0:\n",
    "            raise Exception('from_row should not be less than 0. The value was {}'.format(from_row))\n",
    "        elif to_row < from_row:\n",
    "            raise Exception('from_row should be less than to_row. The values were {} and {}'.format(from_row, to_row))\n",
    "        else:\n",
    "            return(self.__check_row__(space, to_row))\n",
    "        \n",
    "        \n",
    "    def __check_col_range__(self, space, from_col, to_col):\n",
    "        if from_col < 0:\n",
    "            raise Exception('from_col should not be less than 0. The value was {}'.format(from_col))\n",
    "        elif to_col < from_col:\n",
    "            raise Exception('from_col should be less than to_col. The values were {} and {}'.format(from_col, to_col))\n",
    "        else:\n",
    "            return(self.__check_col__(space, to_col))\n",
    "\n",
    "#################################################################################################\n",
    "#################################################################################################\n",
    "#################################################################################################\n",
    "        \n",
    "    def get_frame(self, space, number):\n",
    "        if self.__check_frame__(space, number):\n",
    "            path = self.__get_path__(space, number)\n",
    "            frame = self.file[path][:]\n",
    "            return frame\n",
    "    \n",
    "    \n",
    "    def get_row(self, space, number, row_number):\n",
    "        if self.__check_frame__(space, number) and self.__check_row__(space, row_number):\n",
    "            path = self.__get_path__(space, number)\n",
    "            row = self.file[path][:,row_number]\n",
    "            return(row)\n",
    "    \n",
    "    \n",
    "    def get_col(self, space, number, col_number):\n",
    "        if self.__check_frame__(space, number) and self.__check_col__(space, col_number):\n",
    "            path = self.__get_path__(space, number)\n",
    "            col = self.file[path][col_number]\n",
    "            return(col)\n",
    "    \n",
    "    \n",
    "    def get_point(self, space, number, row_number, col_number):\n",
    "        if self.__check_frame__(space, number) and self.__check_row__(space, row_number) and self.__check_col__(space, col_number):\n",
    "            path = self.__get_path__(space, number)\n",
    "            point = self.file[path][row_number][col_number]\n",
    "            return(point)\n",
    "\n",
    "        \n",
    "###################################################################\n",
    "\n",
    "    def get_frame_range(self, space, from_frame=0, to_frame=None):\n",
    "        path = self.__get_path__(space, 0)\n",
    "        frame_length = len(self.file[path])\n",
    "        frame_height = len(self.file[path][0])\n",
    "\n",
    "        if not to_frame:\n",
    "            path = self.__get_path__(space)\n",
    "            space_length = len(self.file[path])\n",
    "            to_frame = space_length-1\n",
    "\n",
    "        if self.__check_frame_range__(space, from_frame, to_frame):\n",
    "            frames = np.empty([to_frame - from_frame + 1, frame_length, frame_height])\n",
    "            \n",
    "            for i in range(from_frame, to_frame + 1):\n",
    "                path = self.__get_path__(space, i)\n",
    "                frames[i-from_frame] = self.file[path][:]\n",
    "            return(frames)\n",
    "        \n",
    "        \n",
    "    def get_frame_range_row(self, space, from_frame=0, to_frame=None, row_number=0):\n",
    "        path = self.__get_path__(space, 0)\n",
    "        frame_length = len(self.file[path])\n",
    "        frame_height = len(self.file[path][0])\n",
    "\n",
    "        if not to_frame:\n",
    "            space_length = len(self.file[path])\n",
    "            to_frame = space_length-1\n",
    "            \n",
    "        if self.__check_frame_range__(space, from_frame, to_frame) and self.__check_row__(space, row_number):\n",
    "            rows = []\n",
    "            for i in range(from_frame, to_frame+1):\n",
    "                path = self.__get_path__(space, i)\n",
    "                rows.append(self.file[path][row_number])\n",
    "            return(rows)\n",
    "\n",
    "\n",
    "    def get_frame_range_col(self, space, from_frame=0, to_frame=None, col_number=0):\n",
    "        if not to_frame:\n",
    "            path = self.__get_path__(space, 0)\n",
    "            space_length = len(self.file[path])\n",
    "            to_frame = space_length-1\n",
    "            \n",
    "        if self.__check_frame_range__(space, from_frame, to_frame) and self.__check_col__(space, col_number):\n",
    "            cols = []\n",
    "            for i in range(from_frame, to_frame+1):\n",
    "                path = self.__get_path__(space, i)\n",
    "                cols.append(self.file[path][:,col_number])\n",
    "            return(cols)\n"
   ]
  },
  {
   "cell_type": "code",
   "execution_count": null,
   "metadata": {},
   "outputs": [],
   "source": [
    "h5f = H5Reader('./data.h5')"
   ]
  },
  {
   "cell_type": "code",
   "execution_count": null,
   "metadata": {},
   "outputs": [],
   "source": [
    "a = h5f.get_frame(E_r_keyspace, 100)"
   ]
  },
  {
   "cell_type": "code",
   "execution_count": null,
   "metadata": {},
   "outputs": [],
   "source": [
    "a[:,0]"
   ]
  },
  {
   "cell_type": "code",
   "execution_count": null,
   "metadata": {},
   "outputs": [],
   "source": [
    "y_1 = h5f.get_row(E_r_keyspace, 10, 4)\n",
    "y_2 = h5f.get_col(E_r_keyspace, 10, 4)"
   ]
  },
  {
   "cell_type": "code",
   "execution_count": null,
   "metadata": {},
   "outputs": [],
   "source": [
    "print(len(y_1), len(y_2))"
   ]
  },
  {
   "cell_type": "code",
   "execution_count": null,
   "metadata": {},
   "outputs": [],
   "source": [
    "x_1 = np.linspace(0, 2045, 2046)\n",
    "x_2 = np.linspace(0, 253, 254)"
   ]
  },
  {
   "cell_type": "code",
   "execution_count": null,
   "metadata": {},
   "outputs": [],
   "source": [
    "import matplotlib.pyplot as plt"
   ]
  },
  {
   "cell_type": "code",
   "execution_count": null,
   "metadata": {},
   "outputs": [],
   "source": [
    "plt.plot(x_2, y_2)"
   ]
  },
  {
   "cell_type": "code",
   "execution_count": null,
   "metadata": {},
   "outputs": [],
   "source": [
    "a = np.ones([3, 2, 3])"
   ]
  },
  {
   "cell_type": "code",
   "execution_count": null,
   "metadata": {},
   "outputs": [],
   "source": [
    "a"
   ]
  },
  {
   "cell_type": "code",
   "execution_count": null,
   "metadata": {},
   "outputs": [],
   "source": [
    "def __get_path__(base, space, ds=''):\n",
    "    path = join(base, space, str(ds))\n",
    "    return(path)"
   ]
  },
  {
   "cell_type": "code",
   "execution_count": null,
   "metadata": {},
   "outputs": [],
   "source": [
    "__get_path__('/pdp/result', 'E_z', 0)"
   ]
  },
  {
   "cell_type": "code",
   "execution_count": null,
   "metadata": {},
   "outputs": [],
   "source": []
  }
 ],
 "metadata": {
  "kernelspec": {
   "display_name": "Python 3",
   "language": "python",
   "name": "python3"
  },
  "language_info": {
   "codemirror_mode": {
    "name": "ipython",
    "version": 3
   },
   "file_extension": ".py",
   "mimetype": "text/x-python",
   "name": "python",
   "nbconvert_exporter": "python",
   "pygments_lexer": "ipython3",
   "version": "3.6.5"
  }
 },
 "nbformat": 4,
 "nbformat_minor": 2
}
