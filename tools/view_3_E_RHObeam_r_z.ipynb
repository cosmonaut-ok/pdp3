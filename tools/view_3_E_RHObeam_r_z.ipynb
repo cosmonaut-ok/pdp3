{
 "cells": [
  {
   "cell_type": "code",
   "execution_count": null,
   "metadata": {
    "autoscroll": false,
    "ein.hycell": false,
    "ein.tags": "worksheet-0",
    "slideshow": {
     "slide_type": "-"
    }
   },
   "outputs": [],
   "source": [
    "# define matplotlibplotting backend\n",
    "# %matplotlib -l shows all available backends\n",
    "%matplotlib qt"
   ]
  },
  {
   "cell_type": "code",
   "execution_count": null,
   "metadata": {
    "autoscroll": false,
    "ein.hycell": false,
    "ein.tags": "worksheet-0",
    "slideshow": {
     "slide_type": "-"
    }
   },
   "outputs": [],
   "source": [
    "import numpy as np\n",
    "\n",
    "from lib.parameters import Parameters\n",
    "from lib.plot_builder import PlotBuilder\n",
    "from lib.h5_reader import H5Reader\n",
    "from lib.plain_reader import PlainReader"
   ]
  },
  {
   "cell_type": "code",
   "execution_count": null,
   "metadata": {},
   "outputs": [],
   "source": [
    "##  configuration options\n",
    "el_charge = 1.6e-19\n",
    "rho_beam_scale = 1\n",
    "config_file = '/home/cosmonaut/pdp3_modeling/model32_single/parameters.xml'\n",
    "\n",
    "cfg = Parameters(config_file)\n",
    "clim_estimation = cfg.get_clim_estimation()\n",
    "\n",
    "timestamp=2e-9\n",
    "use_grid=False\n",
    "use_cache=True\n",
    "cmap='terrain'\n",
    "\n",
    "clim_e_r = [-clim_estimation, clim_estimation]\n",
    "clim_e_z = [-clim_estimation, clim_estimation]\n",
    "clim_rho_beam = [-(cfg.bunch_density * el_charge * rho_beam_scale), 0]\n",
    "\n",
    "x_axis_label = r'$\\mathit{Z (m)}$'\n",
    "y_axis_label = r'$\\mathit{R (m)}$'\n",
    "cbar_axis_label = r'$\\frac{V}{m}$'\n",
    "cbar_bunch_density_axis_label = r'$m^{-3}$'\n",
    "\n",
    "e_r_plot_name = r'$\\mathbf{Electrical\\enspace Field\\enspace Radial\\enspace Component}\\enspace(E_r)$'\n",
    "e_z_plot_name = r'$\\mathbf{Electrical\\enspace Field\\enspace Longitudal\\enspace Component}\\enspace(E_z)$'\n",
    "rho_beam_plot_name = r'$\\mathbf{Electron\\enspace Bunch\\enspace Density}\\enspace (\\rho_{bunch})$'"
   ]
  },
  {
   "cell_type": "code",
   "execution_count": null,
   "metadata": {
    "scrolled": false
   },
   "outputs": [],
   "source": [
    "# define reader (plain reader used)\n",
    "if not cfg.use_hdf5:\n",
    "    reader = PlainReader(cfg.data_path, cfg.system_state_path,\n",
    "                         [cfg.number_r_grid , cfg.number_z_grid],\n",
    "                         cfg.frames_per_file, use_cache)\n",
    "    reader.verbose = True\n",
    "else:\n",
    "    raise NotImplementedError('HDF5 support still not implemented')\n",
    "\n",
    "# define plot builder\n",
    "plot = PlotBuilder(cfg.number_z_grid, cfg.number_r_grid,\n",
    "                   fig_color=cfg.figure_color, \n",
    "                   fig_width=cfg.figure_width,\n",
    "                   fig_height=cfg.figure_height, \n",
    "                   fig_dpi=cfg.figure_dpi,\n",
    "                   font_family=cfg.figure_font_family,\n",
    "                   font_name=cfg.figure_font_name,\n",
    "                   font_size=cfg.figure_font_size,\n",
    "                   \n",
    "                   x_ticklabel_end=cfg.z_size, y_ticklabel_end=cfg.r_size,\n",
    "                   tickbox=True, grid=use_grid, is_invert_y_axe=False,\n",
    "                   aspect='equal', image_interpolation='nearest', guess_number_ticks=20)"
   ]
  },
  {
   "cell_type": "code",
   "execution_count": null,
   "metadata": {},
   "outputs": [],
   "source": [
    "# add subplots\n",
    "plot.add_subplot_cartesian_2d(e_r_plot_name, 311, x_axe_label=x_axis_label, y_axe_label=y_axis_label)\n",
    "plot.add_subplot_cartesian_2d(e_z_plot_name, 312, x_axe_label=x_axis_label, y_axe_label=y_axis_label)\n",
    "plot.add_subplot_cartesian_2d(rho_beam_plot_name, 313, x_axe_label=x_axis_label, y_axe_label=y_axis_label)\n",
    "\n",
    "# add initial image with zeros and colorbar\n",
    "initial_image = np.zeros([cfg.number_r_grid, cfg.number_z_grid])\n",
    "\n",
    "# add dummy images\n",
    "plot.add_image(e_r_plot_name, initial_image, cmap=cmap, clim=clim_e_r)\n",
    "plot.add_image(e_z_plot_name, initial_image, cmap=cmap, clim=clim_e_z)\n",
    "plot.add_image(rho_beam_plot_name, initial_image, cmap=cmap, clim=clim_rho_beam)\n",
    "\n",
    "# add colorbars\n",
    "plot.add_colorbar(e_r_plot_name, ticks=clim_e_r, title=cbar_axis_label)\n",
    "plot.add_colorbar(e_z_plot_name, ticks=clim_e_z, title=cbar_axis_label)\n",
    "plot.add_colorbar(rho_beam_plot_name, ticks=clim_rho_beam, title=cbar_bunch_density_axis_label)\n",
    "\n",
    "\n",
    "plot.show()"
   ]
  },
  {
   "cell_type": "code",
   "execution_count": null,
   "metadata": {},
   "outputs": [],
   "source": [
    "timestamp=2.2e-9\n",
    "# get data\n",
    "frame = cfg.get_frame_number_by_timestamp(timestamp)\n",
    "data_r = reader.get_frame('E_r', frame)\n",
    "data_z = reader.get_frame('E_z', frame)\n",
    "data_beam = reader.get_frame('rho_beam', frame)\n",
    "\n",
    "# add timestamp to plot\n",
    "plot.get_figure().suptitle(\"Time: {:.2e} s\".format(timestamp), x=.85, y=.95)\n",
    "\n",
    "# add images\n",
    "plot.add_image(e_r_plot_name, data_r, cmap=cmap, clim=clim_e_r)\n",
    "plot.add_image(e_z_plot_name, data_z, cmap=cmap, clim=clim_e_z)\n",
    "plot.add_image(rho_beam_plot_name, data_beam, cmap=cmap, clim=clim_rho_beam)\n",
    "\n",
    "plot.redraw()"
   ]
  }
 ],
 "metadata": {
  "kernelspec": {
   "display_name": "Python 3",
   "language": "python",
   "name": "python3"
  },
  "language_info": {
   "codemirror_mode": {
    "name": "ipython",
    "version": 3
   },
   "file_extension": ".py",
   "mimetype": "text/x-python",
   "name": "python",
   "nbconvert_exporter": "python",
   "pygments_lexer": "ipython3",
   "version": "3.6.5"
  },
  "name": "view_3_E_RHObeam_r_z.ipynb"
 },
 "nbformat": 4,
 "nbformat_minor": 2
}
