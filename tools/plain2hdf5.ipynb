{
 "cells": [
  {
   "cell_type": "code",
   "execution_count": null,
   "metadata": {
    "autoscroll": false,
    "ein.hycell": false,
    "ein.tags": "worksheet-0",
    "slideshow": {
     "slide_type": "-"
    }
   },
   "outputs": [],
   "source": [
    "import os\n",
    "import numpy as np\n",
    "import h5py\n",
    "\n",
    "from lib.parameters import Parameters\n",
    "from lib.h5_reader import H5Reader\n",
    "from lib.plain_reader import PlainReader"
   ]
  },
  {
   "cell_type": "code",
   "execution_count": null,
   "metadata": {},
   "outputs": [],
   "source": [
    "##  configuration options\n",
    "config_file = '../parameters.xml'\n",
    "\n",
    "cfg = Parameters(config_file)\n",
    "\n",
    "components = ['E_r', 'E_z', 'H_phi', 'rho_beam']\n",
    "\n",
    "start_frame = cfg.get_frame_number_by_timestamp(cfg.start_time)\n",
    "end_frame = cfg.get_frame_number_by_timestamp(cfg.end_time)\n",
    "\n",
    "main_group_name = '/pdp3/result'\n",
    "\n",
    "enable_compression = False\n",
    "compression_level = 6"
   ]
  },
  {
   "cell_type": "code",
   "execution_count": null,
   "metadata": {
    "scrolled": false
   },
   "outputs": [],
   "source": [
    "# define reader (plain reader used)\n",
    "reader = PlainReader(cfg.data_path, cfg.system_state_path,\n",
    "                     [cfg.number_r_grid , cfg.number_z_grid],\n",
    "                     cfg.frames_per_file, False)\n",
    "reader.verbose = False\n",
    "\n",
    "f = h5py.File(os.path.join(cfg.data_path, \"data.h5\"), 'w')"
   ]
  },
  {
   "cell_type": "code",
   "execution_count": null,
   "metadata": {},
   "outputs": [],
   "source": [
    "f.create_group(main_group_name)"
   ]
  },
  {
   "cell_type": "code",
   "execution_count": null,
   "metadata": {},
   "outputs": [],
   "source": [
    "for compon in components:\n",
    "    f.create_group(os.path.join(main_group_name, compon))\n",
    "\n",
    "if enable_compression:\n",
    "    compress='gzip'\n",
    "else:\n",
    "    compress=None\n",
    "        \n",
    "for frame in range(start_frame, end_frame):\n",
    "    for compon in components:\n",
    "        name = os.path.join(main_group_name, compon, str(frame))\n",
    "        ds = reader.get_frame(compon, frame)\n",
    "        f.create_dataset(name, data=ds, compression=compression, compression_opts=compression_level)\n",
    "        print(\"Imported {}/{}\".format(compon, frame))\n",
    "\n",
    "f.close()"
   ]
  }
 ],
 "metadata": {
  "kernelspec": {
   "display_name": "Python 3",
   "language": "python",
   "name": "python3"
  },
  "language_info": {
   "codemirror_mode": {
    "name": "ipython",
    "version": 3
   },
   "file_extension": ".py",
   "mimetype": "text/x-python",
   "name": "python",
   "nbconvert_exporter": "python",
   "pygments_lexer": "ipython3",
   "version": "3.6.6"
  },
  "name": "view_3_E_RHObeam_r_z.ipynb"
 },
 "nbformat": 4,
 "nbformat_minor": 2
}
