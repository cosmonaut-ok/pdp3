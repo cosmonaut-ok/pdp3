{
 "cells": [
  {
   "cell_type": "code",
   "execution_count": null,
   "metadata": {
    "autoscroll": false,
    "ein.hycell": false,
    "ein.tags": "worksheet-0",
    "slideshow": {
     "slide_type": "-"
    }
   },
   "outputs": [],
   "source": [
    "# define matplotlibplotting backend\n",
    "# %matplotlib -l shows all available backends\n",
    "%matplotlib qt"
   ]
  },
  {
   "cell_type": "code",
   "execution_count": null,
   "metadata": {
    "autoscroll": false,
    "ein.hycell": false,
    "ein.tags": "worksheet-0",
    "slideshow": {
     "slide_type": "-"
    }
   },
   "outputs": [],
   "source": [
    "import os\n",
    "import numpy as np\n",
    "from numpy import pi\n",
    "from scipy.fftpack import fft\n",
    "\n",
    "from lib.parameters import Parameters\n",
    "from lib.plot_builder import PlotBuilder\n",
    "from lib.h5_reader import H5Reader\n",
    "from lib.plain_reader import PlainReader"
   ]
  },
  {
   "cell_type": "code",
   "execution_count": null,
   "metadata": {},
   "outputs": [],
   "source": [
    "##  configuration options\n",
    "config_file = '../parameters.xml'\n",
    "\n",
    "cfg = Parameters(config_file)\n",
    "\n",
    "radius=0.01\n",
    "longitude=0.1\n",
    "time_range=[cfg.start_time, cfg.end_time]\n",
    "use_grid=True\n",
    "ylim=None\n",
    "use_cache=False\n",
    "\n",
    "data_sets = ['E_r', 'E_z', 'H_phi']\n",
    "\n",
    "x_axis_label = r'$\\mathit{\\omega}$'\n",
    "y_axis_label = r'$\\mathit{A.U.}$'\n",
    "plot_name = r'$\\mathbf{Multicomponent\\enspace Spectrum}$'"
   ]
  },
  {
   "cell_type": "code",
   "execution_count": null,
   "metadata": {},
   "outputs": [],
   "source": [
    "# define reader (plain reader used)\n",
    "if not cfg.use_hdf5:\n",
    "    reader = PlainReader(cfg.data_path, cfg.system_state_path,\n",
    "                         [cfg.number_r_grid , cfg.number_z_grid],\n",
    "                         cfg.frames_per_file, True)\n",
    "    reader.verbose = True\n",
    "else:\n",
    "    reader = H5Reader(str(os.path.join(cfg.data_path, 'data.h5')), use_cache=use_cache)\n",
    "    reader.verbose = True"
   ]
  },
  {
   "cell_type": "code",
   "execution_count": null,
   "metadata": {},
   "outputs": [],
   "source": [
    "# get data\n",
    "start_frame = cfg.get_frame_number_by_timestamp(time_range[0])\n",
    "end_frame = cfg.get_frame_number_by_timestamp(time_range[1])\n",
    "row_number = cfg.get_row_by_radius(radius)\n",
    "col_number = cfg.get_col_by_longitude(longitude)"
   ]
  },
  {
   "cell_type": "code",
   "execution_count": null,
   "metadata": {
    "scrolled": false
   },
   "outputs": [],
   "source": [
    "# define plot builder\n",
    "plot = PlotBuilder(0, 0, # let the system detects sizes automatically\n",
    "                   fig_color=cfg.figure_color, \n",
    "                   fig_width=cfg.figure_width,\n",
    "                   fig_height=cfg.figure_height, \n",
    "                   fig_dpi=cfg.figure_dpi,\n",
    "                   font_family=cfg.figure_font_family,\n",
    "                   font_name=cfg.figure_font_name,\n",
    "                   font_size=cfg.figure_font_size,\n",
    "                   tickbox=True, grid=use_grid, is_invert_y_axe=False,\n",
    "                   aspect='auto', guess_number_ticks=20,\n",
    "                   # number_x_ticks=10, number_y_ticks=10\n",
    "                   x_ticklabel_end=1e-9, y_ticklabel_end=1e-9\n",
    "                  )\n",
    "\n",
    "# add subplots\n",
    "the_plot = plot.add_subplot_cartesian_2d(plot_name, 111, x_axe_label=x_axis_label, y_axe_label=y_axis_label)\n",
    "\n",
    "# set y-limits\n",
    "if ylim is not None:\n",
    "    the_plot.set_ylim(ylim)\n",
    "\n",
    "plot.show()"
   ]
  },
  {
   "cell_type": "code",
   "execution_count": null,
   "metadata": {
    "scrolled": true
   },
   "outputs": [],
   "source": [
    "for ds in data_sets:\n",
    "    data = reader.get_frame_range_dot(ds, row_number, col_number, start_frame, end_frame - 1)\n",
    "    N = len(data)\n",
    "    sampling_rate = 1 / (cfg.step_interval * cfg.data_dump_interval)\n",
    "\n",
    "    # Nyquist Sampling Criteria\n",
    "    T = 1 / sampling_rate # inverse of the sampling rate\n",
    "    x_f = np.linspace(0.0, 1.0/(2.0*T), int(N/2))\n",
    "\n",
    "    # FFT algorithm\n",
    "    yr = fft(data) # \"raw\" FFT with both + and - frequencies\n",
    "    if ds == 'H_phi':\n",
    "        y_f = 2/N * np.abs(yr[0:np.int(N/2)]) * 1000 # positive freqs only\n",
    "    else:\n",
    "        y_f = 2/N * np.abs(yr[0:np.int(N/2)]) # positive freqs only\n",
    "\n",
    "    plot.get_subplot(plot_name).plot(x_f, y_f)"
   ]
  }
 ],
 "metadata": {
  "kernelspec": {
   "display_name": "Python 3",
   "language": "python",
   "name": "python3"
  },
  "language_info": {
   "codemirror_mode": {
    "name": "ipython",
    "version": 3
   },
   "file_extension": ".py",
   "mimetype": "text/x-python",
   "name": "python",
   "nbconvert_exporter": "python",
   "pygments_lexer": "ipython3",
   "version": "3.6.4"
  },
  "name": "view_3_E_RHObeam_r_z.ipynb"
 },
 "nbformat": 4,
 "nbformat_minor": 2
}
