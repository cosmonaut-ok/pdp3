{
 "cells": [
  {
   "cell_type": "code",
   "execution_count": 1,
   "metadata": {
    "autoscroll": false,
    "ein.hycell": false,
    "ein.tags": "worksheet-0",
    "slideshow": {
     "slide_type": "-"
    }
   },
   "outputs": [],
   "source": [
    "import sys\n",
    "sys.path.insert(0, '/home/cosmonaut/dev/pdp3/tools')\n",
    "import numpy as np\n",
    "import matplotlib.pyplot as plt\n",
    "from numpy import pi\n",
    "from scipy.fftpack import fft\n",
    "import matplotlib.ticker as mticker\n",
    "\n",
    "from lib.parameters import Parameters"
   ]
  },
  {
   "cell_type": "code",
   "execution_count": 2,
   "metadata": {},
   "outputs": [],
   "source": [
    "def get_row_by_radius(radius):\n",
    "    return(int(round(radius * cfg.r_grid_count / cfg.r_size)))\n",
    "\n",
    "def get_col_by_longitude(longitude):\n",
    "    return(int(round(longitude * cfg.z_grid_count / cfg.z_size)))"
   ]
  },
  {
   "cell_type": "code",
   "execution_count": 3,
   "metadata": {
    "autoscroll": false,
    "ein.hycell": false,
    "ein.tags": "worksheet-0",
    "slideshow": {
     "slide_type": "-"
    }
   },
   "outputs": [],
   "source": [
    "%matplotlib qt5"
   ]
  },
  {
   "cell_type": "code",
   "execution_count": 33,
   "metadata": {},
   "outputs": [],
   "source": [
    "cfg = Parameters('/home/cosmonaut/pdp3_modeling/model32/parameters.xml')"
   ]
  },
  {
   "cell_type": "code",
   "execution_count": 34,
   "metadata": {},
   "outputs": [],
   "source": [
    "# configure here\n",
    "#      ||\n",
    "#      \\/\n",
    "types = ['r', 'z', 'h_phi']\n",
    "start_time = 0\n",
    "# end_time = 4.29e-9\n",
    "end_time = 1e-8\n",
    "radius = 0.01\n",
    "longitude = 0.1\n",
    "#\n",
    "#\n",
    "#"
   ]
  },
  {
   "cell_type": "code",
   "execution_count": 35,
   "metadata": {},
   "outputs": [
    {
     "data": {
      "text/plain": [
       "<matplotlib.legend.Legend at 0x7f11a0faeba8>"
      ]
     },
     "execution_count": 35,
     "metadata": {},
     "output_type": "execute_result"
    }
   ],
   "source": [
    "suffix = \"{}_{}_{}\".format(cfg.data_dump_interval, get_row_by_radius(radius), get_col_by_longitude(longitude))\n",
    "xf_s = []\n",
    "yf_s = []\n",
    "\n",
    "## RUN ##\n",
    "for i in types:\n",
    "    #if i == 'h_phi':\n",
    "    #    end_time = 8.999000e-09\n",
    "    #else:\n",
    "    #    end_time = 8.621000e-09\n",
    "    y = np.fromfile(\"%s/.cache/plot2d_%s_%e-%e-%e#%s\" % (cfg.data_path, i, start_time, end_time, cfg.step_interval, suffix))\n",
    "    N = len(y)\n",
    "    sampling_rate = 1 / (cfg.step_interval * cfg.data_dump_interval)\n",
    "    x = np.linspace(0, end_time, N)\n",
    "\n",
    "    # Nyquist Sampling Criteria\n",
    "    T = 1 / sampling_rate # inverse of the sampling rate\n",
    "    x_f = np.linspace(0.0, 1.0/(2.0*T), int(N/2))\n",
    "    xf_s.append(x_f)\n",
    "\n",
    "    # FFT algorithm\n",
    "    yr = fft(y) # \"raw\" FFT with both + and - frequencies\n",
    "    if i == 'h_phi':\n",
    "        multiplier=100\n",
    "        y_f = 2/N * np.abs(yr[0:np.int(N/2)]) * multiplier # positive freqs only\n",
    "        s=r\"$\\mathit{H_{\\phi} (\\times %s\\frac{A}{m})}$\" % multiplier\n",
    "    else:\n",
    "        y_f = 2/N * np.abs(yr[0:np.int(N/2)]) # positive freqs only\n",
    "        s=r\"$\\mathit{E_%s (\\frac{V}{m})}$\" % i\n",
    "        \n",
    "    yf_s.append(y_f)\n",
    "    plt.plot(x_f, y_f, label=s)\n",
    "\n",
    "plt.gca().set_xlabel(r'$\\mathit{Frequency (Hz)}$', size=16)\n",
    "plt.gca().set_ylabel(r'$\\mathit{Amplitude}$', size=16)\n",
    "plt.xticks(fontsize=12)\n",
    "plt.yticks(fontsize=12)\n",
    "plt.gca().grid()\n",
    "plt.ticklabel_format(style='sci', scilimits=(-2,2), axis='both')\n",
    "plt.legend(loc='upper right', prop={'size': 18})"
   ]
  },
  {
   "cell_type": "code",
   "execution_count": null,
   "metadata": {},
   "outputs": [],
   "source": [
    "## two FFTs half time each\n",
    "##\n",
    "for i in range(0, len(types)):\n",
    "    if \n",
    "    y = np.fromfile(\"%s/.cache/plot2d_%s_%e-%e-%e#%s\" % (cfg.data_path, types[i], start_time, end_time, cfg.step_interval, suffix))\n",
    "    N = len(y)\n",
    "    N_half = int(N / 2)\n",
    "    y_half = y[0:N_half]\n",
    "    sampling_rate = 1 / (cfg.step_interval * cfg.data_dump_interval)\n",
    "    x = np.linspace(0, end_time, N)\n",
    "    \n",
    "    x_half = x / 2\n",
    "    \n",
    "    # Nyquist Sampling Criteria\n",
    "    T = 1 / sampling_rate # inverse of the sampling rate\n",
    "    x_f = np.linspace(0.0, 1.0/(2.0*T), int(N/2))\n",
    "    x_f_half = np.linspace(0.0, 1.0/(2.0*T), int(N_half/2))\n",
    "    \n",
    "    # FFT algorithm\n",
    "    yr = fft(y) # \"raw\" FFT with both + and - frequencies\n",
    "    yr_half = fft(y_half) # \"raw\" FFT with both + and - frequencies\n",
    "    \n",
    "    y_f = 2/N * np.abs(yr[0:np.int(N/2)]) # positive freqs only\n",
    "    y_f_half = 2/N_half * np.abs(yr_half[0:np.int(N_half/2)]) # positive freqs only\n",
    "    plt.plot(x_f, y_f, x_f_half, y_f_half)\n",
    "\n",
    "plt.gca().grid()\n",
    "plt.ticklabel_format(style='sci', scilimits=(-2,2),axis='both')\n",
    "plt.legend(loc='upper right')"
   ]
  },
  {
   "cell_type": "code",
   "execution_count": null,
   "metadata": {},
   "outputs": [],
   "source": []
  }
 ],
 "metadata": {
  "kernelspec": {
   "display_name": "Python 3",
   "language": "python",
   "name": "python3"
  },
  "language_info": {
   "codemirror_mode": {
    "name": "ipython",
    "version": 3
   },
   "file_extension": ".py",
   "mimetype": "text/x-python",
   "name": "python",
   "nbconvert_exporter": "python",
   "pygments_lexer": "ipython3",
   "version": "3.6.5"
  },
  "name": "Untitled2.ipynb"
 },
 "nbformat": 4,
 "nbformat_minor": 2
}
