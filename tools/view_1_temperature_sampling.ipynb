{
 "cells": [
  {
   "cell_type": "code",
   "execution_count": null,
   "metadata": {
    "autoscroll": false,
    "ein.hycell": false,
    "ein.tags": "worksheet-0",
    "slideshow": {
     "slide_type": "-"
    }
   },
   "outputs": [],
   "source": [
    "# define matplotlibplotting backend\n",
    "# %matplotlib -l shows all available backends\n",
    "%matplotlib qt"
   ]
  },
  {
   "cell_type": "code",
   "execution_count": null,
   "metadata": {
    "autoscroll": false,
    "ein.hycell": false,
    "ein.tags": "worksheet-0",
    "slideshow": {
     "slide_type": "-"
    }
   },
   "outputs": [],
   "source": [
    "import os\n",
    "import numpy as np\n",
    "import sys\n",
    "\n",
    "from lib.parameters import Parameters\n",
    "from lib.plot_builder import PlotBuilder\n",
    "from lib.h5_reader import H5Reader\n",
    "from lib.plain_reader import PlainReader"
   ]
  },
  {
   "cell_type": "code",
   "execution_count": null,
   "metadata": {},
   "outputs": [],
   "source": [
    "##  configuration options\n",
    "config_file = '/home/cosmonaut/dev/PIC/pdp3/td/parameters.xml'\n",
    "\n",
    "cfg = Parameters(config_file)\n",
    "\n",
    "# update shape to get custom shaped images\n",
    "# useful to get just part of frame\n",
    "# or get frames, which has smaller shape than full frame\n",
    "shape=[0,0,cfg.number_r_grid, cfg.number_z_grid]\n",
    "\n",
    "timestamp=1e-10\n",
    "show_grid=False\n",
    "use_cache=False\n",
    "cmap='terrain'\n",
    "\n",
    "# color limits (WARNING: clim_estimation may works incorrectly)\n",
    "clim_t = [0, 4]\n",
    "specie = 'electrons'\n",
    "\n",
    "image_interpolation = 'nearest'\n",
    "\n",
    "use_grid = False\n",
    "ylim = None\n",
    "autoselect = True\n",
    "\n",
    "x_axis_label = r'$\\mathit{Z (m)}$'\n",
    "y_axis_label = r'$\\mathit{R (m)}$'\n",
    "cbar_axis_label = r'$\\mathit{T (eV)}$'\n",
    "\n",
    "plot_name = r'$\\mathbf{Temperature\\enspace Map\\enspace (T)}$'"
   ]
  },
  {
   "cell_type": "code",
   "execution_count": null,
   "metadata": {
    "scrolled": false
   },
   "outputs": [],
   "source": [
    "# define reader (plain reader used)\n",
    "if not cfg.use_hdf5:\n",
    "    reader = PlainReader(path = cfg.data_path,\n",
    "                         data_root=cfg.data_root,\n",
    "                         fullframe_size=[cfg.number_r_grid , cfg.number_z_grid],\n",
    "                         fpds=cfg.frames_per_file, \n",
    "                         use_cache=use_cache,\n",
    "                         verbose=True)\n",
    "else:\n",
    "    reader = H5Reader(str(os.path.join(cfg.data_path, 'data.h5')), use_cache=use_cache)\n",
    "    reader.verbose = True\n",
    "\n",
    "r_scale = (shape[2] - shape[0]) / cfg.number_r_grid\n",
    "z_scale = (shape[3] - shape[1]) / cfg.number_z_grid"
   ]
  },
  {
   "cell_type": "code",
   "execution_count": null,
   "metadata": {},
   "outputs": [],
   "source": [
    "# get data\n",
    "data = []\n",
    "\n",
    "for probe in cfg.probes:\n",
    "    frame = cfg.get_frame_number_by_timestamp(timestamp, probe.schedule)\n",
    "    if (probe.type == 'frame') and (probe.specie == specie) and (probe.r_start == shape[0]) and (probe.z_start == shape[1]) and(probe.r_end == shape[2]) and(probe.z_end == shape[3]):\n",
    "        if probe.component == 'T': data = reader.get_frame('T/{}'.format(probe.specie), shape, frame)\n",
    "\n",
    "# try bigger frames, if autoselect enabled\n",
    "if len(data) == 0 and autoselect:\n",
    "    for probe in cfg.probes:\n",
    "        probe_shape = [probe.r_start, probe.z_start, probe.r_end, probe.z_end]\n",
    "        frame = cfg.get_frame_number_by_timestamp(timestamp, probe.schedule)\n",
    "        if (probe.type == 'frame') and (probe.specie == specie) and (probe_shape[0] <= shape[0]) and (probe_shape[1] <= shape[1]) and(probe_shape[2] >= shape[2]) and(probe_shape[3] >= shape[3]):\n",
    "            if probe.component == 'T' and len(data) == 0: data = reader.get_frame('T/{}'.format(probe.specie), probe_shape, frame)[shape[0]:shape[2], shape[1]:shape[3]]"
   ]
  },
  {
   "cell_type": "code",
   "execution_count": null,
   "metadata": {},
   "outputs": [],
   "source": [
    "data_flat = data.flatten()"
   ]
  },
  {
   "cell_type": "code",
   "execution_count": null,
   "metadata": {},
   "outputs": [],
   "source": [
    "min_ = min(data_flat)\n",
    "max_ = max(data_flat)\n",
    "sampling_amount = 100\n",
    "\n",
    "data_to_plot = np.zeros(100)\n",
    "\n",
    "sampling_values = np.linspace(min_, max_, sampling_amount)"
   ]
  },
  {
   "cell_type": "code",
   "execution_count": null,
   "metadata": {},
   "outputs": [],
   "source": [
    "for i in data_flat:\n",
    "    for j in range(0, sampling_amount):\n",
    "        if i > sampling_values[j] and i <= sampling_values[j+1]:\n",
    "            data_to_plot[j] += 1"
   ]
  },
  {
   "cell_type": "code",
   "execution_count": null,
   "metadata": {},
   "outputs": [],
   "source": [
    "# define plot builder\n",
    "plot = PlotBuilder(0, 0, # let the system detects sizes automatically\n",
    "                   fig_color=cfg.figure_color, \n",
    "                   fig_width=cfg.figure_width,\n",
    "                   fig_height=cfg.figure_height, \n",
    "                   fig_dpi=cfg.figure_dpi,\n",
    "                   font_family=cfg.figure_font_family,\n",
    "                   font_name=cfg.figure_font_name,\n",
    "                   font_size=cfg.figure_font_size,\n",
    "                   tickbox=True, grid=use_grid, is_invert_y_axe=False,\n",
    "                   aspect='auto', guess_number_ticks=20,\n",
    "                   # number_x_ticks=10, number_y_ticks=10\n",
    "                   x_ticklabel_end=1e-9, y_ticklabel_end=1e-9\n",
    "                  )\n",
    "\n",
    "# add subplots\n",
    "plot_obj = plot.add_subplot_cartesian_2d(plot_name, 111, x_axe_label=x_axis_label, y_axe_label=y_axis_label)\n",
    "\n",
    "# set y-limits\n",
    "if ylim is not None:\n",
    "    plot_obj.set_ylim(ylim)"
   ]
  },
  {
   "cell_type": "code",
   "execution_count": null,
   "metadata": {
    "scrolled": true
   },
   "outputs": [],
   "source": [
    "# add timestamp to plot\n",
    "# plot.get_figure().suptitle(\"Time: {:.2e} s\".format(timestamp), x=.85, y=.95)\n",
    "\n",
    "# add images\n",
    "plot_obj.plot(sampling_values, data_to_plot)\n",
    "\n",
    "plot.redraw()"
   ]
  }
 ],
 "metadata": {
  "kernelspec": {
   "display_name": "Python 3",
   "language": "python",
   "name": "python3"
  },
  "language_info": {
   "codemirror_mode": {
    "name": "ipython",
    "version": 3
   },
   "file_extension": ".py",
   "mimetype": "text/x-python",
   "name": "python",
   "nbconvert_exporter": "python",
   "pygments_lexer": "ipython3",
   "version": "3.7.0"
  },
  "name": "view_3_E_RHObeam_r_z.ipynb"
 },
 "nbformat": 4,
 "nbformat_minor": 2
}
