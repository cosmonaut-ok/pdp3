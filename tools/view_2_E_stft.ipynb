{
 "cells": [
  {
   "cell_type": "code",
   "execution_count": null,
   "metadata": {
    "autoscroll": false,
    "ein.hycell": false,
    "ein.tags": "worksheet-0",
    "slideshow": {
     "slide_type": "-"
    }
   },
   "outputs": [],
   "source": [
    "# define matplotlibplotting backend\n",
    "# %matplotlib -l shows all available backends\n",
    "%matplotlib qt"
   ]
  },
  {
   "cell_type": "code",
   "execution_count": null,
   "metadata": {
    "autoscroll": false,
    "ein.hycell": false,
    "ein.tags": "worksheet-0",
    "slideshow": {
     "slide_type": "-"
    }
   },
   "outputs": [],
   "source": [
    "import os\n",
    "import numpy as np\n",
    "import matplotlib.pyplot as plt\n",
    "\n",
    "from scipy.signal import stft\n",
    "\n",
    "from mpl_toolkits.axes_grid1 import make_axes_locatable\n",
    "\n",
    "from lib.parameters import Parameters\n",
    "from lib.plot_builder import PlotBuilder\n",
    "from lib.h5_reader import H5Reader\n",
    "from lib.plain_reader import PlainReader"
   ]
  },
  {
   "cell_type": "code",
   "execution_count": null,
   "metadata": {
    "autoscroll": false,
    "ein.hycell": false,
    "ein.tags": "worksheet-0",
    "slideshow": {
     "slide_type": "-"
    }
   },
   "outputs": [],
   "source": [
    "##  configuration options\n",
    "config_file = '../parameters.xml'\n",
    "\n",
    "cfg = Parameters(config_file)\n",
    "clim_estimation = cfg.get_clim_estimation()\n",
    "\n",
    "radius=0.01\n",
    "longitude=0.05\n",
    "time_range=[cfg.start_time, cfg.end_time]\n",
    "use_grid=True\n",
    "cmap='terrain'\n",
    "# clim_e_r = [-clim_estimation, clim_estimation]\n",
    "# clim_e_z = [-clim_estimation, clim_estimation]\n",
    "clim_e_r = [0,0]\n",
    "clim_e_z = [0,0]\n",
    "use_cache = True\n",
    "cmap = 'terrain'\n",
    "\n",
    "# N dots per segment\n",
    "nperseg=254\n",
    "\n",
    "x_axis_label = r'$\\mathit{Time (by window)}$'\n",
    "y_axis_label = r'$\\mathit{F (Hz)}$'\n",
    "cbar_axis_label = r'$Amplitude (A.U.)$'\n",
    "\n",
    "e_r_plot_name = r'$\\mathbf{E_r\\enspace Short\\enspace Time\\enspace Spectra}$'\n",
    "e_z_plot_name = r'$\\mathbf{E_z\\enspace Short\\enspace Time\\enspace Spectra}$'\n",
    "\n",
    "cbar_axis_label = r'$\\frac{V}{m}$'"
   ]
  },
  {
   "cell_type": "code",
   "execution_count": null,
   "metadata": {
    "autoscroll": false,
    "ein.hycell": false,
    "ein.tags": "worksheet-0",
    "slideshow": {
     "slide_type": "-"
    }
   },
   "outputs": [],
   "source": [
    "# define reader (plain reader used)\n",
    "if not cfg.use_hdf5:\n",
    "    reader = PlainReader(cfg.data_path, cfg.system_state_path,\n",
    "                         shape=[cfg.number_r_grid , cfg.number_z_grid],\n",
    "                         fpds=cfg.frames_per_file,\n",
    "                         use_cache=use_cache)\n",
    "    reader.verbose = True\n",
    "else:\n",
    "    reader = H5Reader(str(os.path.join(cfg.data_path, 'data.h5')),\n",
    "                      shape=[cfg.number_r_grid , cfg.number_z_grid],\n",
    "                      use_cache=use_cache)\n",
    "    reader.verbose = True"
   ]
  },
  {
   "cell_type": "code",
   "execution_count": null,
   "metadata": {
    "autoscroll": false,
    "ein.hycell": false,
    "ein.tags": "worksheet-0",
    "scrolled": true,
    "slideshow": {
     "slide_type": "-"
    }
   },
   "outputs": [],
   "source": [
    "# get data\n",
    "start_frame = cfg.get_frame_number_by_timestamp(time_range[0])\n",
    "end_frame = cfg.get_frame_number_by_timestamp(time_range[1])\n",
    "row_number = cfg.get_row_by_radius(radius)\n",
    "col_number = cfg.get_col_by_longitude(longitude)\n",
    "\n",
    "data_r = reader.get_frame_range_dot('E_r', row_number, col_number, start_frame, end_frame - 1)\n",
    "data_z = reader.get_frame_range_dot('E_z', row_number, col_number, start_frame, end_frame - 1)"
   ]
  },
  {
   "cell_type": "code",
   "execution_count": null,
   "metadata": {
    "autoscroll": false,
    "ein.hycell": false,
    "ein.tags": "worksheet-0",
    "slideshow": {
     "slide_type": "-"
    }
   },
   "outputs": [],
   "source": [
    "## sampling frequency (chastota dyskretyzacii)\n",
    "fs = 1 / (cfg.step_interval * cfg.data_dump_interval)\n",
    "\n",
    "f_r, t_r, Zxx_r = stft(data_r, fs, nperseg=nperseg)\n",
    "f_z, t_z, Zxx_z = stft(data_z, fs, nperseg=nperseg)\n",
    "color_map = plt.get_cmap(cmap)\n",
    "print(len(t_r))"
   ]
  },
  {
   "cell_type": "code",
   "execution_count": null,
   "metadata": {
    "autoscroll": false,
    "ein.hycell": false,
    "ein.tags": "worksheet-0",
    "scrolled": false,
    "slideshow": {
     "slide_type": "-"
    }
   },
   "outputs": [],
   "source": [
    "# define plot builder\n",
    "plot = PlotBuilder(0, 0,\n",
    "                   fig_color=cfg.figure_color,\n",
    "                   fig_width=cfg.figure_width,\n",
    "                   fig_height=cfg.figure_height,\n",
    "                   fig_dpi=cfg.figure_dpi,\n",
    "                   font_family=cfg.figure_font_family,\n",
    "                   font_name=cfg.figure_font_name,\n",
    "                   font_size=cfg.figure_font_size,\n",
    "                   tickbox=True, grid=use_grid, is_invert_y_axe=False,\n",
    "                   aspect='auto', guess_number_ticks=5\n",
    "                   # number_x_ticks=10, number_y_ticks=10,\n",
    "                   # x_ticklabel_end=1e8, y_ticklabel_end=1e9\n",
    "                  )\n",
    "\n",
    "# add subplots\n",
    "plot_r = plot.add_subplot_cartesian_2d(e_r_plot_name, 121, x_axe_label=x_axis_label, y_axe_label=y_axis_label)\n",
    "plot_z = plot.add_subplot_cartesian_2d(e_z_plot_name, 122, x_axe_label=x_axis_label, y_axe_label=y_axis_label)"
   ]
  },
  {
   "cell_type": "code",
   "execution_count": null,
   "metadata": {
    "autoscroll": false,
    "ein.hycell": false,
    "ein.tags": "worksheet-0",
    "slideshow": {
     "slide_type": "-"
    }
   },
   "outputs": [],
   "source": [
    "if clim_e_r == [0, 0]:\n",
    "    im0 = plot_r.pcolormesh(t_r, f_r, np.abs(Zxx_r), cmap=color_map)\n",
    "else:\n",
    "    im0 = plot_r.pcolormesh(t_r, f_r, np.abs(Zxx_r),\n",
    "                                cmap=color_map, vmin=clim_e_r[0],\n",
    "                                vmax=clim_e_r[1])\n",
    "\n",
    "divider = make_axes_locatable(plot_r)\n",
    "cax = divider.append_axes(position='right', size='10%', pad=0.05)\n",
    "plot.get_figure().colorbar(im0, cax=cax, format='%.2e') # , ax = axes)\n",
    "\n",
    "if clim_e_z == [0, 0]:\n",
    "    im1 = plot_z.pcolormesh(t_z, f_z, np.abs(Zxx_z), cmap=color_map)\n",
    "else:\n",
    "    im1 = plot_z.pcolormesh(t_z, f_z, np.abs(Zxx_z),\n",
    "                                cmap=color_map, vmin=clim_e_z[0],\n",
    "                                vmax=clim_e_z[1])\n",
    "\n",
    "divider = make_axes_locatable(plot_z)\n",
    "cax = divider.append_axes(position='right', size='10%', pad=0.05)\n",
    "plot.get_figure().colorbar(im0, cax=cax, format='%.2e') # , ax = axes)\n",
    "\n",
    "print(len(Zxx_z[0]))"
   ]
  }
 ],
 "metadata": {
  "kernelspec": {
   "display_name": "Python 3",
   "language": "python",
   "name": "python3"
  },
  "language_info": {
   "codemirror_mode": {
    "name": "ipython",
    "version": 3
   },
   "file_extension": ".py",
   "mimetype": "text/x-python",
   "name": "python",
   "nbconvert_exporter": "python",
   "pygments_lexer": "ipython3",
   "version": "3.7.0"
  },
  "name": "view_2_E_stft.ipynb"
 },
 "nbformat": 4,
 "nbformat_minor": 2
}
