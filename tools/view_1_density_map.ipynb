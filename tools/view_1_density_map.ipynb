{
 "cells": [
  {
   "cell_type": "code",
   "execution_count": null,
   "metadata": {
    "autoscroll": false,
    "ein.hycell": false,
    "ein.tags": "worksheet-0",
    "slideshow": {
     "slide_type": "-"
    }
   },
   "outputs": [],
   "source": [
    "# define matplotlibplotting backend\n",
    "# %matplotlib -l shows all available backends\n",
    "%matplotlib qt"
   ]
  },
  {
   "cell_type": "code",
   "execution_count": null,
   "metadata": {
    "autoscroll": false,
    "ein.hycell": false,
    "ein.tags": "worksheet-0",
    "slideshow": {
     "slide_type": "-"
    }
   },
   "outputs": [],
   "source": [
    "import os\n",
    "import numpy as np\n",
    "\n",
    "from lib.parameters import Parameters\n",
    "from lib.plot_builder import PlotBuilder\n",
    "from lib.h5_reader import H5Reader\n",
    "from lib.plain_reader import PlainReader"
   ]
  },
  {
   "cell_type": "code",
   "execution_count": null,
   "metadata": {},
   "outputs": [],
   "source": [
    "##  configuration options\n",
    "config_file = '../parameters.xml'\n",
    "\n",
    "cfg = Parameters(config_file)\n",
    "\n",
    "# update shape to get custom shaped images\n",
    "# useful to get just part of frame\n",
    "# or get frames, which has smaller shape than full frame\n",
    "shape=[0,0,cfg.number_r_grid, cfg.number_z_grid]\n",
    "\n",
    "timestamp=1e-10\n",
    "show_grid=False\n",
    "use_cache=False\n",
    "cmap='terrain'\n",
    "\n",
    "# color limits (WARNING: clim_estimation may works incorrectly)\n",
    "clim_density = [0, 2e17]\n",
    "specie = 'electrons'\n",
    "\n",
    "image_interpolation = 'nearest'\n",
    "\n",
    "autoselect = True\n",
    "\n",
    "x_axis_label = r'$\\mathit{Z (m)}$'\n",
    "y_axis_label = r'$\\mathit{R (m)}$'\n",
    "cbar_axis_label = r'$\\mathit{\\rho (m^{-3})}$'\n",
    "\n",
    "t_plot_name = r'$\\mathbf{Particles\\enspace Density\\enspace Map\\enspace (\\rho)}$'"
   ]
  },
  {
   "cell_type": "code",
   "execution_count": null,
   "metadata": {
    "scrolled": false
   },
   "outputs": [],
   "source": [
    "# define reader (plain reader used)\n",
    "if not cfg.use_hdf5:\n",
    "    reader = PlainReader(path = cfg.data_path,\n",
    "                         data_root=cfg.data_root,\n",
    "                         fullframe_size=[cfg.number_r_grid , cfg.number_z_grid],\n",
    "                         fpds=cfg.frames_per_file, \n",
    "                         use_cache=use_cache,\n",
    "                         verbose=True)\n",
    "else:\n",
    "    reader = H5Reader(str(os.path.join(cfg.data_path, 'data.h5')), use_cache=use_cache)\n",
    "    reader.verbose = True\n",
    "\n",
    "r_scale = (shape[2] - shape[0]) / cfg.number_r_grid\n",
    "z_scale = (shape[3] - shape[1]) / cfg.number_z_grid\n",
    "\n",
    "# define plot builder\n",
    "plot = PlotBuilder(shape[3] - shape[1], shape[2] - shape[0],\n",
    "                   fig_color=cfg.figure_color, \n",
    "                   fig_width=cfg.figure_width,\n",
    "                   fig_height=cfg.figure_height, \n",
    "                   fig_dpi=cfg.figure_dpi,\n",
    "                   font_family=cfg.figure_font_family,\n",
    "                   font_name=cfg.figure_font_name,\n",
    "                   font_size=cfg.figure_font_size,\n",
    "                   \n",
    "                   x_ticklabel_end=cfg.z_size * z_scale, y_ticklabel_end=cfg.r_size * r_scale,\n",
    "                   tickbox=True, grid=show_grid, is_invert_y_axe=False,\n",
    "                   aspect='equal', image_interpolation=image_interpolation, guess_number_ticks=20)"
   ]
  },
  {
   "cell_type": "code",
   "execution_count": null,
   "metadata": {},
   "outputs": [],
   "source": [
    "# add subplots\n",
    "plot.add_subplot_cartesian_2d(t_plot_name, 111, x_axe_label=x_axis_label, y_axe_label=y_axis_label)\n",
    "\n",
    "# add initial image with zeros and colorbar\n",
    "initial_image = np.zeros([shape[2] - shape[0], shape[3] - shape[1]])\n",
    "\n",
    "# add dummy images\n",
    "plot.add_image(t_plot_name, initial_image, cmap=cmap, clim=clim_density)\n",
    "\n",
    "# add colorbars\n",
    "plot.add_colorbar(t_plot_name, ticks=clim_density, title=cbar_axis_label)\n",
    "\n",
    "plot.show()"
   ]
  },
  {
   "cell_type": "code",
   "execution_count": null,
   "metadata": {},
   "outputs": [],
   "source": [
    "# get data\n",
    "data = []\n",
    "\n",
    "for probe in cfg.probes:\n",
    "    frame = cfg.get_frame_number_by_timestamp(timestamp, probe.schedule)\n",
    "    if (probe.type == 'frame') and (probe.specie == specie) and (probe.r_start == shape[0]) and (probe.z_start == shape[1]) and(probe.r_end == shape[2]) and(probe.z_end == shape[3]):\n",
    "        if probe.component == 'density': data = reader.get_frame('density/{}'.format(probe.specie), shape, frame)\n",
    "\n",
    "# try bigger frames, if autoselect enabled\n",
    "if len(data) == 0 and autoselect:\n",
    "    for probe in cfg.probes:\n",
    "        probe_shape = [probe.r_start, probe.z_start, probe.r_end, probe.z_end]\n",
    "        frame = cfg.get_frame_number_by_timestamp(timestamp, probe.schedule)\n",
    "        if (probe.type == 'frame') and (probe.specie == specie) and (probe_shape[0] <= shape[0]) and (probe_shape[1] <= shape[1]) and(probe_shape[2] >= shape[2]) and(probe_shape[3] >= shape[3]):\n",
    "            if probe.component == 'density' and len(data) == 0: data = reader.get_frame('density/{}'.format(probe.specie), probe_shape, frame)[shape[0]:shape[2], shape[1]:shape[3]]"
   ]
  },
  {
   "cell_type": "code",
   "execution_count": null,
   "metadata": {
    "scrolled": true
   },
   "outputs": [],
   "source": [
    "# add timestamp to plot\n",
    "plot.get_figure().suptitle(\"Time: {:.2e} s\".format(timestamp), x=.85, y=.95)\n",
    "\n",
    "# add images\n",
    "plot.add_image(t_plot_name, data, cmap=cmap, clim=clim_density)\n",
    "\n",
    "plot.redraw()"
   ]
  }
 ],
 "metadata": {
  "kernelspec": {
   "display_name": "Python 3",
   "language": "python",
   "name": "python3"
  },
  "language_info": {
   "codemirror_mode": {
    "name": "ipython",
    "version": 3
   },
   "file_extension": ".py",
   "mimetype": "text/x-python",
   "name": "python",
   "nbconvert_exporter": "python",
   "pygments_lexer": "ipython3",
   "version": "3.6.6"
  },
  "name": "view_3_E_RHObeam_r_z.ipynb"
 },
 "nbformat": 4,
 "nbformat_minor": 2
}
