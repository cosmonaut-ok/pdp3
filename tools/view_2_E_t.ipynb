{
 "cells": [
  {
   "cell_type": "code",
   "execution_count": null,
   "metadata": {
    "autoscroll": false,
    "ein.hycell": false,
    "ein.tags": "worksheet-0",
    "slideshow": {
     "slide_type": "-"
    }
   },
   "outputs": [],
   "source": [
    "# define matplotlibplotting backend\n",
    "# %matplotlib -l shows all available backends\n",
    "%matplotlib qt"
   ]
  },
  {
   "cell_type": "code",
   "execution_count": null,
   "metadata": {
    "autoscroll": false,
    "ein.hycell": false,
    "ein.tags": "worksheet-0",
    "slideshow": {
     "slide_type": "-"
    }
   },
   "outputs": [],
   "source": [
    "import os\n",
    "import numpy as np\n",
    "\n",
    "from lib.parameters import Parameters\n",
    "from lib.plot_builder import PlotBuilder\n",
    "from lib.h5_reader import H5Reader\n",
    "from lib.plain_reader import PlainReader"
   ]
  },
  {
   "cell_type": "code",
   "execution_count": null,
   "metadata": {},
   "outputs": [],
   "source": [
    "##  configuration options\n",
    "config_file = '../parameters.xml'\n",
    "\n",
    "cfg = Parameters(config_file)\n",
    "\n",
    "radius=0.02\n",
    "longitude=0.2\n",
    "time_range=[cfg.start_time, cfg.end_time]\n",
    "use_grid=True\n",
    "ylim_r=None\n",
    "ylim_z=None\n",
    "use_cache=True\n",
    "\n",
    "x_axis_label = r'$\\mathit{t (s)}$'\n",
    "y_r_axis_label = r'$\\mathit{E_r (\\frac{V}{m})}$'\n",
    "y_z_axis_label = r'$\\mathit{E_z (\\frac{V}{m})}$'\n",
    "\n",
    "e_r_plot_name = r'$\\mathbf{Electrical\\enspace Field\\enspace Radial\\enspace Component}\\enspace(E_r)$'\n",
    "e_z_plot_name = r'$\\mathbf{Electrical\\enspace Field\\enspace Longitudal\\enspace Component}\\enspace(E_z)$'\n",
    "rho_beam_plot_name = r'$\\mathbf{Electron\\enspace Bunch\\enspace Density}\\enspace (\\rho_{bunch})$'"
   ]
  },
  {
   "cell_type": "code",
   "execution_count": null,
   "metadata": {},
   "outputs": [],
   "source": [
    "# define reader (plain reader used)\n",
    "if not cfg.use_hdf5:\n",
    "    reader = PlainReader(cfg.data_path, cfg.system_state_path,\n",
    "                         [cfg.number_r_grid , cfg.number_z_grid],\n",
    "                         cfg.frames_per_file, True)\n",
    "    reader.verbose = True\n",
    "else:\n",
    "    reader = H5Reader(str(os.path.join(cfg.data_path, 'data.h5')), use_cache=use_cache)\n",
    "    reader.verbose = True"
   ]
  },
  {
   "cell_type": "code",
   "execution_count": null,
   "metadata": {
    "scrolled": true
   },
   "outputs": [],
   "source": [
    "# get data\n",
    "start_frame = cfg.get_frame_number_by_timestamp(time_range[0])\n",
    "end_frame = cfg.get_frame_number_by_timestamp(time_range[1])\n",
    "row_number = cfg.get_row_by_radius(radius)\n",
    "col_number = cfg.get_col_by_longitude(longitude)\n",
    "\n",
    "data_r = reader.get_frame_range_dot('E_r', row_number, col_number, start_frame, end_frame - 1)\n",
    "data_z = reader.get_frame_range_dot('E_z', row_number, col_number, start_frame, end_frame - 1)"
   ]
  },
  {
   "cell_type": "code",
   "execution_count": null,
   "metadata": {
    "scrolled": false
   },
   "outputs": [],
   "source": [
    "data_timeline = np.linspace(time_range[0], time_range[1], len(data_r))\n",
    "\n",
    "# define plot builder\n",
    "plot = PlotBuilder(0, 0, # let the system detects sizes automatically\n",
    "                   fig_color=cfg.figure_color, \n",
    "                   fig_width=cfg.figure_width,\n",
    "                   fig_height=cfg.figure_height, \n",
    "                   fig_dpi=cfg.figure_dpi,\n",
    "                   font_family=cfg.figure_font_family,\n",
    "                   font_name=cfg.figure_font_name,\n",
    "                   font_size=cfg.figure_font_size,\n",
    "                   tickbox=True, grid=use_grid, is_invert_y_axe=False,\n",
    "                   aspect='auto', guess_number_ticks=20,\n",
    "                   # number_x_ticks=10, number_y_ticks=10\n",
    "                   x_ticklabel_end=1e-9, y_ticklabel_end=1e-9\n",
    "                  )\n",
    "\n",
    "# add subplots\n",
    "plot_r = plot.add_subplot_cartesian_2d(e_r_plot_name, 121, x_axe_label=x_axis_label, y_axe_label=y_r_axis_label)\n",
    "plot_z = plot.add_subplot_cartesian_2d(e_z_plot_name, 122, x_axe_label=x_axis_label, y_axe_label=y_z_axis_label)\n",
    "\n",
    "# set y-limits\n",
    "if ylim_r is not None:\n",
    "    plot_r.subplot_er.set_ylim(ylim_r)\n",
    "\n",
    "if ylim_z is not None:\n",
    "    plot_z.subplot_er.set_ylim(ylim_z)"
   ]
  },
  {
   "cell_type": "code",
   "execution_count": null,
   "metadata": {},
   "outputs": [],
   "source": [
    "# add data\n",
    "plot_r.plot(data_timeline, data_r)\n",
    "plot_z.plot(data_timeline, data_z)\n",
    "\n",
    "plot.show()"
   ]
  }
 ],
 "metadata": {
  "kernelspec": {
   "display_name": "Python 3",
   "language": "python",
   "name": "python3"
  },
  "language_info": {
   "codemirror_mode": {
    "name": "ipython",
    "version": 3
   },
   "file_extension": ".py",
   "mimetype": "text/x-python",
   "name": "python",
   "nbconvert_exporter": "python",
   "pygments_lexer": "ipython3",
   "version": "3.6.4"
  },
  "name": "view_3_E_RHObeam_r_z.ipynb"
 },
 "nbformat": 4,
 "nbformat_minor": 2
}
